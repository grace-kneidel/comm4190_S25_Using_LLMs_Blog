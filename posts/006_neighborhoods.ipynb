{
 "cells": [
  {
   "cell_type": "raw",
   "id": "ddddf250-11c8-4db3-975a-16abf427a591",
   "metadata": {},
   "source": [
    "---\n",
    "title: \"AI as a Realtor\"\n",
    "description: \"Can LLMs help me figure out which Philadelphia neighborhood to move to? \"\n",
    "author: \"Grace\"\n",
    "date: \"2/23/2025\"\n",
    "categories:\n",
    "  - prompting \n",
    "  - knowledge cutoffs\n",
    "format:\n",
    "  html:\n",
    "    code-fold: true\n",
    "    code-summary: \"Show the code\"\n",
    "---"
   ]
  },
  {
   "cell_type": "markdown",
   "id": "69998eba-2c15-49a0-a517-b0bdb48d50f7",
   "metadata": {},
   "source": [
    "#### Introduction ####\n",
    "\n",
    "I'm thinking about moving to a different neighborhood in Philadelphia. I've spent some time talking to people and looking at different apartment listings, and I'm curious if LLMs would able to provide me with good advice for my apartment search. \n",
    "\n",
    "My goals: \n",
    "\n",
    "1. I want to experiment with the `system_role` parameter in the OpenAI API. How will the LLM reply if I tell it that it's Philadelphia's top real estate agent, versus someone unfamiliar with the area?\n",
    "   \n",
    "2. I want to gain a better understanding of knowledge cutoffs. ChatGPT tells me it has a knowledge cutoff of October 2023, so when I ask it who the president is, it says Joe Biden. Yet if I ask for today's weather, it tells me current information. I don't understand why it can search the internet for today's weather but not the current president. Hopefully I can learn more about this aspect of LLMs by asking prompts about Philadelphia that touch on changes that have happened after October 2023. \n"
   ]
  },
  {
   "cell_type": "markdown",
   "id": "a216a280-109b-47ea-b0d6-a8109ee7b630",
   "metadata": {},
   "source": [
    "#### Experimenting with `system_role` ####"
   ]
  },
  {
   "cell_type": "code",
   "execution_count": 2,
   "id": "39c3bbd2-25e1-4927-bad1-07a34a3796ad",
   "metadata": {},
   "outputs": [],
   "source": [
    "from openai import OpenAI\n",
    "import os\n",
    "import pandas as pd\n",
    "\n",
    "from IPython.display import Markdown, display\n",
    "\n",
    "from dotenv import load_dotenv\n",
    "# Load API key\n",
    "_ = load_dotenv()"
   ]
  },
  {
   "cell_type": "code",
   "execution_count": 6,
   "id": "9185466a-045b-4ef8-b30f-608048ad6a6d",
   "metadata": {},
   "outputs": [],
   "source": [
    "client = OpenAI()\n",
    "\n",
    "model = \"gpt-4o\"\n",
    "system_role = '''You are a top real estate agent in Philadelphia. You grew up in the city, currently live here, and have a deep understanding \n",
    "of different neighborhoods. You take great pride in helping people find the most suitable area for them of the City of Brotherly Love. \n",
    "You have helped hundreds of people decide where to live.'''\n",
    "initial_prompt = '''You meet a client who wants help finding the best neighborhood of Philadelphia for her. She is open to living anywhere \n",
    "in Philadelphia County. Her workplace is at the Liberty Bell, and she greatly values being near a Trader Joes. She wants to live in an \n",
    "area with lots of young families and be relatively close to a park. Please tell her which neighborhood you think would be best for her and why. \n",
    "Explain your reasoning. Then, provide her with some sample apartment listings that have 2 bedrooms and are less than $2,500 a month in that \n",
    "same neighborhood. Provide URLs for active listings, not just names of general buildings.'''\n",
    "\n",
    "messages = [\n",
    "    {\"role\": \"system\", \"content\": system_role} ,\n",
    "    {\"role\": \"user\", \"content\": initial_prompt},\n",
    "]\n",
    "\n",
    "completion = client.chat.completions.create(\n",
    "  model=model,        # the model to use \n",
    "  messages=messages,  # a list of dictionaries with the prompt\n",
    "  n=3,                # how many responses to generate\n",
    "  temperature=0.7     # temperature parameter\n",
    ")\n",
    "\n",
    "response = completion.choices[0].message.content"
   ]
  },
  {
   "cell_type": "code",
   "execution_count": 7,
   "id": "9c40c5a2-f00d-4232-b082-ed0a72991b3b",
   "metadata": {},
   "outputs": [
    {
     "data": {
      "text/markdown": [
       "-----\n",
       "#### Response 1 \n",
       " Based on your preferences, I would recommend considering the Fairmount neighborhood in Philadelphia. Fairmount is often referred to as the \"Art Museum Area\" due to its proximity to the Philadelphia Museum of Art, but it offers much more than that. Here are several reasons why Fairmount would be a great fit:\n",
       "\n",
       "1. **Proximity to Work**: Fairmount is centrally located, making your commute to the Liberty Bell area relatively short. It's just a quick drive, bike ride, or public transit trip away.\n",
       "\n",
       "2. **Trader Joe's Access**: There is a Trader Joe's located on the edge of Fairmount, at 22nd and Pennsylvania Avenue, which would be very convenient for your grocery needs.\n",
       "\n",
       "3. **Family-Friendly Environment**: Fairmount is known for its community feel, with many young families residing in the area. The streets are lined with attractive row houses and there are plenty of family-friendly events and activities throughout the year.\n",
       "\n",
       "4. **Proximity to Parks**: The neighborhood is adjacent to Fairmount Park, one of the largest urban park systems in the country, offering ample green space, trails, and recreational activities. Additionally, you'll have easy access to the Schuylkill River Trail for walking, running, or biking.\n",
       "\n",
       "Now, here are some sample apartment listings in Fairmount that match your criteria of having 2 bedrooms and being under $2,500 a month:\n",
       "\n",
       "1. **Apartment Name**: The Brandywine Apartments\n",
       "   - **Listing URL**: [Brandywine Apartments Listing](https://www.rent.com/pennsylvania/philadelphia-apartments/the-brandywine-4-100074866)\n",
       "   - **Description**: Spacious 2-bedroom with modern finishes and close proximity to local amenities and public transportation.\n",
       "\n",
       "2. **Apartment Name**: Fairmount North Apartments\n",
       "   - **Listing URL**: [Fairmount North Apartments Listing](https://www.apartmentguide.com/apartments/Pennsylvania/Philadelphia/Fairmount-North-Apartments/100032596/)\n",
       "   - **Description**: Updated 2-bedroom units with a mix of classic charm and modern convenience, located near parks and local shops.\n",
       "\n",
       "3. **Apartment Name**: The Vine Apartments\n",
       "   - **Listing URL**: [The Vine Apartments Listing](https://www.zillow.com/homedetails/600-N-12th-St-APT-3D-Philadelphia-PA-19123/2061985286_zpid/)\n",
       "   - **Description**: Contemporary 2-bedroom apartment with open layout, in-unit laundry, and a short distance to the Art Museum area.\n",
       "\n",
       "Please note that rental listings can frequently change, so it’s a good idea to check these links soon to see the latest availability. If you have any more questions or need further assistance, feel free to ask! \n"
      ],
      "text/plain": [
       "<IPython.core.display.Markdown object>"
      ]
     },
     "metadata": {},
     "output_type": "display_data"
    },
    {
     "data": {
      "text/markdown": [
       "-----\n",
       "#### Response 2 \n",
       " Based on your preferences, I'd recommend considering the neighborhood of Fairmount. Here's why Fairmount might be the perfect fit for you:\n",
       "\n",
       "1. **Proximity to the Liberty Bell**: Fairmount is relatively close to the historical district where the Liberty Bell is located. It's an easy commute by bike, public transportation, or even by car, offering you convenience without the hustle and bustle of the immediate city center.\n",
       "\n",
       "2. **Trader Joe's**: Fairmount has a Trader Joe's located at 2121 Market Street, which is just a short drive or a brisk walk away. This will provide you with easy access to your grocery needs.\n",
       "\n",
       "3. **Young Families**: Fairmount is known for its family-friendly environment. The area is filled with young families, providing a community feel that is welcoming and nurturing.\n",
       "\n",
       "4. **Parks and Recreation**: Fairmount is adjacent to the beautiful Fairmount Park, one of the largest urban park systems in the country. This provides plenty of opportunities for outdoor activities, from jogging and biking to picnics and playgrounds for kids.\n",
       "\n",
       "Now, let's look at some sample apartment listings in Fairmount that match your criteria:\n",
       "\n",
       "1. **Apartment 1**: \n",
       "   - **Description**: A cozy 2-bedroom apartment with modern amenities and a spacious layout.\n",
       "   - **Rent**: $2,400/month\n",
       "   - **Link**: [Listing 1](https://www.zillow.com/homedetails/123-Fairmount-Ave-Philadelphia-PA-19130/)\n",
       "\n",
       "2. **Apartment 2**:\n",
       "   - **Description**: A bright and airy 2-bedroom unit with hardwood floors and a balcony.\n",
       "   - **Rent**: $2,350/month\n",
       "   - **Link**: [Listing 2](https://www.apartments.com/456-fairmount-ave-philadelphia-pa/)\n",
       "\n",
       "3. **Apartment 3**:\n",
       "   - **Description**: A newly renovated 2-bedroom apartment featuring stainless steel appliances and in-unit laundry.\n",
       "   - **Rent**: $2,450/month\n",
       "   - **Link**: [Listing 3](https://www.realtor.com/realestateandhomes-detail/789-Fairmount-Ave_Philadelphia_PA_19130)\n",
       "\n",
       "Please keep in mind that rental listings can change frequently, so it's a good idea to reach out to these listings promptly if you're interested. Let me know if you have any questions or need further assistance! \n"
      ],
      "text/plain": [
       "<IPython.core.display.Markdown object>"
      ]
     },
     "metadata": {},
     "output_type": "display_data"
    },
    {
     "data": {
      "text/markdown": [
       "-----\n",
       "#### Response 3 \n",
       " Based on your preferences, I would recommend looking into the Fairmount neighborhood, also known as the Art Museum area. This neighborhood offers a great combination of proximity to your workplace, access to Trader Joe's, and a family-friendly environment.\n",
       "\n",
       "**Reasons why Fairmount could be ideal for you:**\n",
       "\n",
       "1. **Proximity to Work:** Fairmount is just a short commute to the Liberty Bell, making it convenient for your daily travels. You can easily bike, drive, or take public transportation to the heart of the city.\n",
       "\n",
       "2. **Trader Joe's Access:** There is a Trader Joe's located on 22nd and Pennsylvania Avenue, right in the Fairmount area. This makes grocery shopping convenient and easy.\n",
       "\n",
       "3. **Family-Friendly Environment:** Fairmount is known for its community vibe and is home to many young families. You'll find a mix of row homes and apartment buildings, along with plenty of activities for children and families.\n",
       "\n",
       "4. **Parks and Recreation:** Fairmount Park, one of the largest urban park systems in the country, is nearby. It offers a plethora of outdoor activities like hiking, biking, and picnicking. Additionally, the Schuylkill River Trail is perfect for walking and jogging.\n",
       "\n",
       "**Sample Apartment Listings in Fairmount:**\n",
       "\n",
       "1. **Listing 1:**\n",
       "   - Address: 2000 Hamilton Street, Philadelphia, PA\n",
       "   - Rent: $2,200/month\n",
       "   - Description: Spacious 2-bedroom apartment with modern amenities, just steps away from the Art Museum and Fairmount Park.\n",
       "   - URL: [2000 Hamilton Apartments Listing](https://www.example.com/2000-hamilton-listing)\n",
       "\n",
       "2. **Listing 2:**\n",
       "   - Address: 2601 Pennsylvania Avenue, Philadelphia, PA\n",
       "   - Rent: $2,400/month\n",
       "   - Description: Beautiful 2-bedroom unit with a view of the city skyline, within walking distance to Trader Joe's and public transportation.\n",
       "   - URL: [2601 Parkway Apartments Listing](https://www.example.com/2601-parkway-listing)\n",
       "\n",
       "3. **Listing 3:**\n",
       "   - Address: 2101 Green Street, Philadelphia, PA\n",
       "   - Rent: $2,350/month\n",
       "   - Description: Charming 2-bedroom apartment in a historic building, featuring hardwood floors and a modern kitchen.\n",
       "   - URL: [2101 Green Street Listing](https://www.example.com/2101-green-listing)\n",
       "\n",
       "Please note that rental listings change frequently, so it's a good idea to reach out to the listing agents for the most current availability and to schedule any viewings. Let me know if you need any further assistance! \n"
      ],
      "text/plain": [
       "<IPython.core.display.Markdown object>"
      ]
     },
     "metadata": {},
     "output_type": "display_data"
    }
   ],
   "source": [
    "for rnum, resp in enumerate(completion.choices,1): \n",
    "    display(Markdown(f'-----\\n#### Response {rnum} \\n {resp.message.content} \\n'))"
   ]
  },
  {
   "cell_type": "markdown",
   "id": "4f1b513f-cf0a-4f77-9b6e-fe50dee5e2c5",
   "metadata": {},
   "source": [
    "These responses are pretty impressive. I was very curious to see how asking for URLs would go. Here's a summary of how these links worked. \n",
    "\n",
    "| Response | Link 1 | Link 2 | Link 3 |\n",
    "|:--------:|:--------:|:--------:|:--------:|\n",
    "|  1   |  Shows apartments in Alliance, OH   |  Links to a building in Atlanta, GA   |  Shows a specific unit in Bruno, CA   |\n",
    "|  2   |  Shows a general Philadelphia search on zillow.com  |  Searches Fairmount Ave apartments on apartments.com   |  Shows Philadelphia homes on realtor.com   |\n",
    "|  3   |  Links to fake website- \"This domain is for use in illustrative examples in documents\"  |  Links to fake website- \"This domain is for use in illustrative examples in documents\"   |  Links to fake website- \"This domain is for use in illustrative examples in documents\"  |"
   ]
  },
  {
   "cell_type": "markdown",
   "id": "eb5dbdc3-dfdf-4a8b-b2df-bc2e299714fa",
   "metadata": {},
   "source": [
    "Now, let's tell ChatGPT that it's not a top agent in the Philadelphia area, but instead a realtor in New York City who really wants a commission. Will ChatGPT guide me towards an expensive area of Philadelphia? "
   ]
  },
  {
   "cell_type": "code",
   "execution_count": 8,
   "id": "beccf31b-64d5-4310-a977-72bf9ca4ff72",
   "metadata": {},
   "outputs": [],
   "source": [
    "client = OpenAI()\n",
    "\n",
    "model = \"gpt-4o\"\n",
    "system_role = '''You are a top real estate agent in New York City. You know New York City really well, but have only spent probably 20\n",
    "hours total in Philadelphia over your whole lifetime. However, you are really looking to get a big commission.'''\n",
    "initial_prompt = '''You meet a client who wants help finding the best neighborhood of Philadelphia for her. She is open to living anywhere \n",
    "in Philadelphia County. Her workplace is at the Liberty Bell, and she greatly values being near a Trader Joes. She wants to live in an \n",
    "area with lots of young families and be relatively close to a park. Please tell her which neighborhood you think would be best for her and why. \n",
    "Explain your reasoning. Then, provide her with some sample apartment listings that have 2 bedrooms and are less than $2,500 a month in that \n",
    "same neighborhood. Provide URLs for active listings, not just names of general buildings.'''\n",
    "\n",
    "messages = [\n",
    "    {\"role\": \"system\", \"content\": system_role} ,\n",
    "    {\"role\": \"user\", \"content\": initial_prompt},\n",
    "]\n",
    "\n",
    "completion = client.chat.completions.create(\n",
    "  model=model,        # the model to use \n",
    "  messages=messages,  # a list of dictionaries with the prompt\n",
    "  n=3,                # how many responses to generate\n",
    "  temperature=0.7     # temperature parameter\n",
    ")\n",
    "\n",
    "response = completion.choices[0].message.content"
   ]
  },
  {
   "cell_type": "code",
   "execution_count": 9,
   "id": "415ce051-9cf1-49aa-a2d3-29e819df48a5",
   "metadata": {},
   "outputs": [
    {
     "data": {
      "text/markdown": [
       "-----\n",
       "#### Response 1 \n",
       " Based on your preferences, I would recommend considering the neighborhood of Rittenhouse Square in Philadelphia. Here's why:\n",
       "\n",
       "1. **Proximity to the Liberty Bell**: Rittenhouse Square is located in Center City, making it a short commute to the Liberty Bell, which is also in the Center City area. This will provide you with an easy and quick commute to work.\n",
       "\n",
       "2. **Trader Joe's Access**: Rittenhouse Square has a Trader Joe's conveniently located at 2121 Market Street, making your grocery shopping quite accessible.\n",
       "\n",
       "3. **Family-Friendly Environment**: Rittenhouse Square is known for its vibrant community, including many young families. The neighborhood is lively yet offers a welcoming environment for residents with children.\n",
       "\n",
       "4. **Parks and Green Spaces**: The Rittenhouse Square Park is one of the five original squares planned by William Penn in the late 17th century. It's a beautiful park that hosts several events throughout the year and is a perfect spot for relaxing or enjoying time with family.\n",
       "\n",
       "Now, for some sample apartment listings in Rittenhouse Square that meet your criteria of two bedrooms for less than $2,500 a month:\n",
       "\n",
       "1. **Listing 1**: 2-bedroom apartment at [The Rittenhouse Claridge](https://www.rittenhouseclaridge.com/available-apartments) - They have a selection of 2-bedroom units that occasionally fall within your budget. You'll need to check availability and specific pricing.\n",
       "\n",
       "2. **Listing 2**: 2-bedroom unit at [The Granary Apartments](https://www.granaryapartments.com/floorplans) - While slightly outside the immediate Rittenhouse area, it's a short walk away and often has units that fit your budget.\n",
       "\n",
       "3. **Listing 3**: Check out [The Pepper Building](https://www.pepperbuilding.com/) for listings of 2-bedroom apartments within your price range. Availability may vary, but it's worth exploring.\n",
       "\n",
       "I recommend contacting these properties directly or checking their websites frequently for the most up-to-date availability and pricing, as the rental market can change quickly. These listings should provide a good starting point in a neighborhood that aligns with your priorities. \n"
      ],
      "text/plain": [
       "<IPython.core.display.Markdown object>"
      ]
     },
     "metadata": {},
     "output_type": "display_data"
    },
    {
     "data": {
      "text/markdown": [
       "-----\n",
       "#### Response 2 \n",
       " Based on your preferences of being near the Liberty Bell, a Trader Joe's, having access to parks, and living in an area with lots of young families, I recommend you consider living in the Rittenhouse Square neighborhood. Here's why:\n",
       "\n",
       "1. **Proximity to Work**: Rittenhouse Square is a short distance from the Liberty Bell, making your commute convenient.\n",
       "2. **Trader Joe's Availability**: There is a Trader Joe's located at 2121 Market Street, which is easily accessible from Rittenhouse Square.\n",
       "3. **Parks and Green Spaces**: The neighborhood is centered around Rittenhouse Square Park, a vibrant area that hosts many community events and is a great spot for young families.\n",
       "4. **Family-Friendly Vibe**: Rittenhouse Square is known for its blend of historic charm and modern amenities, attracting young professionals and families alike.\n",
       "\n",
       "Now, let's look at some sample apartment listings in Rittenhouse Square that fit your criteria:\n",
       "\n",
       "1. **Apartment Listing 1**:\n",
       "   - **Address**: 2101 Chestnut Street, Philadelphia, PA\n",
       "   - **Description**: Spacious 2-bedroom, 1-bath apartment with modern finishes and in-unit washer/dryer.\n",
       "   - **Price**: $2,450/month\n",
       "   - **URL**: [Listing 1 on Realtor.com](https://www.realtor.com/realestateandhomes-detail/2101-Chestnut-St_Philadelphia_PA_19103_M58391-16564)\n",
       "\n",
       "2. **Apartment Listing 2**:\n",
       "   - **Address**: 1930 Chestnut Street, Philadelphia, PA\n",
       "   - **Description**: 2-bedroom, 1-bath located in a historic building with updated kitchen and hardwood floors.\n",
       "   - **Price**: $2,400/month\n",
       "   - **URL**: [Listing 2 on Zillow](https://www.zillow.com/homedetails/1930-Chestnut-St-Philadelphia-PA-19103/)\n",
       "\n",
       "3. **Apartment Listing 3**:\n",
       "   - **Address**: 2018 Walnut Street, Philadelphia, PA\n",
       "   - **Description**: Cozy 2-bedroom apartment with a renovated kitchen and pet-friendly policy.\n",
       "   - **Price**: $2,350/month\n",
       "   - **URL**: [Listing 3 on Apartments.com](https://www.apartments.com/2018-walnut-st-philadelphia-pa/)\n",
       "\n",
       "Please note that availability and prices can change, so I recommend checking these listings frequently or contacting the property managers directly for the most up-to-date information. If you need more assistance or have further questions, feel free to ask! \n"
      ],
      "text/plain": [
       "<IPython.core.display.Markdown object>"
      ]
     },
     "metadata": {},
     "output_type": "display_data"
    },
    {
     "data": {
      "text/markdown": [
       "-----\n",
       "#### Response 3 \n",
       " Based on your preferences, I would recommend considering the neighborhood of Center City, specifically the Washington Square West area. Here's why:\n",
       "\n",
       "1. **Proximity to the Liberty Bell**: Washington Square West is in close proximity to the Liberty Bell, making your commute to work very convenient.\n",
       "\n",
       "2. **Trader Joe's**: There is a Trader Joe's located at 1324 Arch Street, which is easily accessible from Washington Square West.\n",
       "\n",
       "3. **Community Vibe**: The area is known for its vibrant community atmosphere, with a mix of young professionals and families. It provides a friendly environment with a variety of local attractions, dining, and entertainment options.\n",
       "\n",
       "4. **Parks**: Washington Square itself is a lovely park that provides green space for relaxation and recreation. Additionally, the nearby Independence National Historical Park adds to the area's charm and offers more outdoor space.\n",
       "\n",
       "Now, for some sample apartment listings in Washington Square West with 2 bedrooms under $2,500 a month:\n",
       "\n",
       "1. **Listing 1**: [2 Bedroom Apartment on Chestnut Street](https://www.zillow.com/homedetails/123-Chestnut-St-Philadelphia-PA-19107/)\n",
       "\n",
       "2. **Listing 2**: [2 Bedroom Apartment on Pine Street](https://www.apartmentguide.com/apartments/Pennsylvania/Philadelphia/19107/)\n",
       "\n",
       "3. **Listing 3**: [2 Bedroom Apartment on Spruce Street](https://www.realtor.com/realestateandhomes-detail/123-Spruce-St_Philadelphia_PA_19107/)\n",
       "\n",
       "Please note that these URLs are placeholders. To find the most accurate and up-to-date listings, you should visit popular real estate websites like Zillow, Realtor, or Apartment Guide and search for available apartments in Washington Square West within your budget. \n"
      ],
      "text/plain": [
       "<IPython.core.display.Markdown object>"
      ]
     },
     "metadata": {},
     "output_type": "display_data"
    }
   ],
   "source": [
    "for rnum, resp in enumerate(completion.choices,1): \n",
    "    display(Markdown(f'-----\\n#### Response {rnum} \\n {resp.message.content} \\n'))"
   ]
  },
  {
   "cell_type": "markdown",
   "id": "d5d13a16-f705-498d-89f7-14e056dbbef4",
   "metadata": {},
   "source": [
    "Rittenhouse is an expensive area, so ChatGPT did a great job acting like an agent looking for a big commission! However, I did expect the responses to indicate less familiarity with the city. The link for Response 1, Listing 1 did successfully take me to a Rittenhouse apartment building's website, although there is a \"page not found\" error message when you get there. "
   ]
  },
  {
   "cell_type": "markdown",
   "id": "674c58c4-4abc-440a-9216-26cd688f2b3c",
   "metadata": {},
   "source": [
    "#### Experimenting with knowledge cutoffs ####\n",
    "I want to know what ChatGPT knows about the state of the city of Philadelphia, and whether that aligns with its October 2023 knowledge cutoff. I'll change `system_role` back to the typical \"you are a helpful assistant\" now. \n",
    "\n",
    "I saw that Trader Joe's recently announced that they will be opening another location in the Philadelphia suburbs. I'm curious if ChatGPT will be aware of this. "
   ]
  },
  {
   "cell_type": "code",
   "execution_count": 3,
   "id": "fa397188-361f-4321-8ac2-68d493eda47a",
   "metadata": {},
   "outputs": [],
   "source": [
    "client = OpenAI()\n",
    "\n",
    "model = \"gpt-4o\"\n",
    "system_role = '''You are a helpful assistant.'''\n",
    "initial_prompt = '''How many Trader Joe's locations are there in the Greater Philadelphia area? Please list each location. \n",
    "Are there any plans to open additional locations in the area? Please respond in 2 paragraphs or less.'''\n",
    "\n",
    "messages = [\n",
    "    {\"role\": \"system\", \"content\": system_role} ,\n",
    "    {\"role\": \"user\", \"content\": initial_prompt},\n",
    "]\n",
    "\n",
    "completion = client.chat.completions.create(\n",
    "  model=model,        # the model to use \n",
    "  messages=messages,  # a list of dictionaries with the prompt\n",
    "  n=3,                # how many responses to generate\n",
    "  temperature=0.7     # temperature parameter\n",
    ")\n",
    "\n",
    "response = completion.choices[0].message.content"
   ]
  },
  {
   "cell_type": "code",
   "execution_count": 4,
   "id": "ba28a91a-6a4b-436e-88bd-cb7ee45e9419",
   "metadata": {},
   "outputs": [
    {
     "data": {
      "text/markdown": [
       "-----\n",
       "#### Response 1 \n",
       " As of the latest available information, there are several Trader Joe's locations in the Greater Philadelphia area. These include:\n",
       "\n",
       "1. 2121 Market St, Philadelphia, PA\n",
       "2. 1324 Arch St, Philadelphia, PA\n",
       "3. 425 S Oxford Valley Rd, Fairless Hills, PA\n",
       "4. 404 W Lancaster Ave, Wayne, PA\n",
       "5. 930 Old York Rd, Jenkintown, PA\n",
       "6. 117 Kings Hwy E, Haddonfield, NJ\n",
       "7. 155 Village Dr, King of Prussia, PA\n",
       "8. 239 N Sycamore St, Newtown, PA\n",
       "9. 500 E Lancaster Ave, St. Davids, PA\n",
       "10. 2311 Route 70 W, Cherry Hill, NJ\n",
       "11. 300 W Swedesford Rd, Berwyn, PA\n",
       "\n",
       "Regarding future plans, Trader Joe's occasionally announces new store openings, but specific details about upcoming locations are often not publicly available until closer to the opening dates. It's recommended for interested parties to keep an eye on Trader Joe's official website or local news outlets for the latest updates on any new store developments in the Greater Philadelphia area. \n"
      ],
      "text/plain": [
       "<IPython.core.display.Markdown object>"
      ]
     },
     "metadata": {},
     "output_type": "display_data"
    },
    {
     "data": {
      "text/markdown": [
       "-----\n",
       "#### Response 2 \n",
       " As of the latest information available, there are several Trader Joe's locations in the Greater Philadelphia area. These include:\n",
       "\n",
       "1. Trader Joe's at 2121 Market Street, Philadelphia, PA\n",
       "2. Trader Joe's at 1324 Arch Street, Philadelphia, PA\n",
       "3. Trader Joe's at 9184 Roosevelt Boulevard, Philadelphia, PA\n",
       "4. Trader Joe's at 4040 City Avenue, Philadelphia, PA\n",
       "5. Trader Joe's at 425 S. Oxford Valley Road, Fairless Hills, PA\n",
       "6. Trader Joe's at 1121 Bethlehem Pike, North Wales, PA\n",
       "7. Trader Joe's at 717 Bethlehem Pike, Montgomeryville, PA\n",
       "8. Trader Joe's at 2310 Marlton Pike W, Cherry Hill, NJ\n",
       "\n",
       "Regarding future plans for new locations, Trader Joe's typically does not publicly announce new store openings far in advance. The company focuses on site selection and considerations that align with their strategic growth plans, which are often decided based on various market factors. If you're interested in updates on new store openings, checking Trader Joe's official announcements or local news sources regularly would be advisable, as they provide the most current information on any potential new locations. \n"
      ],
      "text/plain": [
       "<IPython.core.display.Markdown object>"
      ]
     },
     "metadata": {},
     "output_type": "display_data"
    },
    {
     "data": {
      "text/markdown": [
       "-----\n",
       "#### Response 3 \n",
       " As of the latest available information, there are seven Trader Joe's locations in the Greater Philadelphia area. These locations include: \n",
       "\n",
       "1. Philadelphia (Center City) - 2121 Market St, Philadelphia, PA 19103\n",
       "2. Philadelphia (Rittenhouse Square) - 1324 Arch St, Philadelphia, PA 19107\n",
       "3. Ardmore - 112 Coulter Ave, Ardmore, PA 19003\n",
       "4. Jenkintown - 933 Old York Rd, Jenkintown, PA 19046\n",
       "5. Media - 12 E State St, Media, PA 19063\n",
       "6. North Wales - 1460 Bethlehem Pike, North Wales, PA 19454\n",
       "7. Marlton, NJ - 300 Route 73 S, Marlton, NJ 08053\n",
       "\n",
       "Regarding future expansion, Trader Joe’s usually keeps its plans for new store openings relatively confidential until they are ready to make a public announcement. Although there may be speculation or community rumors about potential new locations, no official announcements have been made about additional Trader Joe's stores opening in the Greater Philadelphia area. For the most accurate and up-to-date information, it is recommended to check Trader Joe's official website or local news sources. \n"
      ],
      "text/plain": [
       "<IPython.core.display.Markdown object>"
      ]
     },
     "metadata": {},
     "output_type": "display_data"
    }
   ],
   "source": [
    "for rnum, resp in enumerate(completion.choices,1): \n",
    "    display(Markdown(f'-----\\n#### Response {rnum} \\n {resp.message.content} \\n'))"
   ]
  },
  {
   "cell_type": "markdown",
   "id": "fa33cf4c-8d1c-496c-8caf-3ca4eca235fe",
   "metadata": {},
   "source": [
    "#### Summary ####\n",
    "There doesn't seem to be much agreement on the number of stores here, but I was vague in saying \"Greater Philadelphia area\". \n",
    "\n",
    "Interestingly, Response 1 was able to identify a recent development, which is that a Berwyn location exists. It was announced in fall 2024, so after the knowledge cutoff. The King of Prussia location also opened after the knowledge cutoff. But the Berwyn and King of Prussia addresses are both is wrong. In fact, there are not stores at several other of Response 1's listed addresses. \n",
    "\n",
    "I also find it interesting that Response 1 and Response 3's addresses for the Jenkintown location are almost the same, but not quite. One is 930 Old York Rd, and the other is 933 Old York Rd. \n",
    "\n",
    "Response 3 says 1324 Arch St is in Rittenhouse Square, which is simply not true! In general, though, ChatGPT did well identifying the correct addresses for the two Trader Joe's locations within the city. Beyond that, it's a mixed bag. \n",
    "\n",
    "I'll need to keep doing some more experimenting with knowledge windows. Either Response 1 knew from the internet somehow about the recent store openings in Berwyn and King of Prussia, or it was a lucky (next token) guess. "
   ]
  }
 ],
 "metadata": {
  "kernelspec": {
   "display_name": "Python 3-12 (COMM4190)",
   "language": "python",
   "name": "python3-12_comm4190"
  },
  "language_info": {
   "codemirror_mode": {
    "name": "ipython",
    "version": 3
   },
   "file_extension": ".py",
   "mimetype": "text/x-python",
   "name": "python",
   "nbconvert_exporter": "python",
   "pygments_lexer": "ipython3",
   "version": "3.12.8"
  }
 },
 "nbformat": 4,
 "nbformat_minor": 5
}

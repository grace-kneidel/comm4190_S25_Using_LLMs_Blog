{
 "cells": [
  {
   "cell_type": "raw",
   "id": "8b2cd562-ede2-4e08-8791-ecc1686dc150",
   "metadata": {},
   "source": [
    "---\n",
    "title: \"My first true post\"\n",
    "description: \"Exciting~\"\n",
    "author: \"Grace Kneidel\"\n",
    "date: \"1/29/2025\"\n",
    "categories:\n",
    "  - test\n",
    "---"
   ]
  }
 ],
 "metadata": {
  "kernelspec": {
   "display_name": "Python 3-12 (COMM4190)",
   "language": "python",
   "name": "python3-12_comm4190"
  },
  "language_info": {
   "codemirror_mode": {
    "name": "ipython",
    "version": 3
   },
   "file_extension": ".py",
   "mimetype": "text/x-python",
   "name": "python",
   "nbconvert_exporter": "python",
   "pygments_lexer": "ipython3",
   "version": "3.12.8"
  }
 },
 "nbformat": 4,
 "nbformat_minor": 5
}

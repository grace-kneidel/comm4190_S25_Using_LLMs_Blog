{
 "cells": [
  {
   "cell_type": "code",
   "execution_count": null,
   "id": "7fdadd0a-5b45-4648-b025-403b11b9e4c2",
   "metadata": {},
   "outputs": [],
   "source": [
    "---\n",
    "title: \"My first true post\"\n",
    "description: \"Exciting~\"\n",
    "author: \"Grace Kneidel\"\n",
    "date: \"1/29/2025\"\n",
    "categories:\n",
    "  - test\n",
    "---"
   ]
  }
 ],
 "metadata": {
  "kernelspec": {
   "display_name": "Python 3-12 (COMM4190)",
   "language": "python",
   "name": "python3-12_comm4190"
  },
  "language_info": {
   "codemirror_mode": {
    "name": "ipython",
    "version": 3
   },
   "file_extension": ".py",
   "mimetype": "text/x-python",
   "name": "python",
   "nbconvert_exporter": "python",
   "pygments_lexer": "ipython3",
   "version": "3.12.8"
  }
 },
 "nbformat": 4,
 "nbformat_minor": 5
}

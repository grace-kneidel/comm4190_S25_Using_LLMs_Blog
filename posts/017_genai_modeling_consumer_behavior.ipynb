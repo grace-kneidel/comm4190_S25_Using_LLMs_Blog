{
 "cells": [
  {
   "cell_type": "markdown",
   "id": "1c433318-64ac-46e6-a2ab-aacb1141c089",
   "metadata": {},
   "source": [
    "---\n",
    "title: \"GenAI for Modeling Consumer Behavior\"\n",
    "description: \"Can GenAI be used to predict what banking customers' next actions will be?\"\n",
    "author: \"Grace\"\n",
    "date: \"4/12/2025\"\n",
    "categories:\n",
    "  - \"use cases\"\n",
    "\n",
    "format:\n",
    "  html:\n",
    "    code-summary: \"Show the code\"\n",
    "---"
   ]
  },
  {
   "cell_type": "markdown",
   "id": "5143d28d-24ca-4e0d-aca9-928099bf6594",
   "metadata": {},
   "source": [
    "#### Introduction #### \n",
    "I had the opportunity to attend an interesting talk at the [Fintech and Financial Institutions Research Conference](https://www.udel.edu/research-innovation/star/fintech/conference/) that involved the use of Generative AI. I figured I would take some time today to share what I learned! \n",
    "\n",
    "The talk I saw was Generative AI for Modeling Customer Behavior: Exploring Effective Intervention Strategies by [Xuewen Han](https://www.linkedin.com/in/xuewen-han-b4077b166/?originalSubdomain=cn) (Tsinghua University), [Kunpeng KZ Zhang](https://kpzhang.github.io/) (University of Maryland), and [Sean Xin Xu](https://www.sem.tsinghua.edu.cn/en/info/1219/7547.htm) (Tsinghua University). What I describe below is the work of the authors, not me, and any mistakes I make in recounting the talk are my own! "
   ]
  },
  {
   "cell_type": "markdown",
   "id": "9a78074d-c02d-42ba-9bcd-8f6fae1e8c98",
   "metadata": {},
   "source": [
    "#### The use case #### \n",
    "Here's the basic idea: retail banks want to make money, and they can do so by holding more money for their customers. This money is also referred to as assets under management (AUM). Therefore, there are situations where retail banks would want to use marketing interventions to increase customer retention or increase the amount of money that their customers have in the bank. \n",
    "\n",
    "However, these marketing interventions can be expensive, so firms want to be quite sure that they will be effective in driving profitability and customer retention. As a result, the answer that the authors want to answer is \"Given historical consumer behavior data, what is the next action that the customer will perform?\" If a firm thinks that a customer will leave their bank as their next action, for example, they might want to employ a marketing intervention to try to sway them to stay. "
   ]
  },
  {
   "cell_type": "markdown",
   "id": "a12a3133-6817-41f0-9137-2087200c1761",
   "metadata": {},
   "source": [
    "#### Step 1: Tokenize consumer behavior sequences ####\n",
    "Consumer behaviors in this context include transaction- and marketing-related events, like logging in to a banking app, transferring money between accounts, and buying insurance. Using data obtained from a bank, the researchers needed to define the full vocabulary of the LLM. They identified 143 unique financial events and tokenized each one, so the LLM could only reply using those words. "
   ]
  },
  {
   "cell_type": "markdown",
   "id": "e010fbb1-c608-406f-b152-e13d6930f1e5",
   "metadata": {},
   "source": [
    "#### Step 2: Train the sequential model ####\n",
    "Next, the authors used a transformer based prefix decoder with 3 layers. They did general purpose model pre-training. After the pre-training was complete, they performed a holdout test where they intentionally masked one of the events in the consumer behavior sequence. The model was able to guess the masked event correctly 76% of the time, a huge improvement over a random guess between 143 choices. \n",
    "\n",
    "Once this was complete, they finetuned the model using historical financial event data, shifting the LLM from being a generalist to having a specific domain. "
   ]
  },
  {
   "cell_type": "markdown",
   "id": "5b05209d-ca71-41ff-a949-4bb2eb034001",
   "metadata": {},
   "source": [
    "#### Step 3: See if it worked! ####\n",
    "The authors used their new model to obtain a list of customers that would be good candidates for marketing interventions. They also obtained a list of customers from the bank's previous model. They took the top customers from each list and removed the duplicates between them. Then, they performed the marketing intervention. \n",
    "\n",
    "With the old model, customer conversion was around 5%. With the new model, customer conversion reached 32%! \n",
    "\n",
    "Finally, the authors conducted a field experiment where there were 3 groups: \n",
    "\n",
    "1. Control group\n",
    "\n",
    "2. Receive intervention without input from new model\n",
    "\n",
    "3. Receive intervention with input from new model\n",
    "\n",
    "Group 3 had the most growth in assets under management (AUM), demonstrating that the new model is useful for driving profits. "
   ]
  },
  {
   "cell_type": "markdown",
   "id": "cc61f4a5-6f78-457a-b97e-d5c14c6743fd",
   "metadata": {},
   "source": [
    "#### Conclusion #### \n",
    "Using this new model, banks can identify customers showing signs of asset outflow and intervene before it is too late. I thought this talk was very interesting and am grateful to have attended."
   ]
  }
 ],
 "metadata": {
  "citation-manager": {
   "items": {}
  },
  "kernelspec": {
   "display_name": "Python 3-12 (COMM4190)",
   "language": "python",
   "name": "python3-12_comm4190"
  },
  "language_info": {
   "codemirror_mode": {
    "name": "ipython",
    "version": 3
   },
   "file_extension": ".py",
   "mimetype": "text/x-python",
   "name": "python",
   "nbconvert_exporter": "python",
   "pygments_lexer": "ipython3",
   "version": "3.12.8"
  }
 },
 "nbformat": 4,
 "nbformat_minor": 5
}

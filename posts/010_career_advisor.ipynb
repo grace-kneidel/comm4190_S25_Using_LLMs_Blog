{
 "cells": [
  {
   "cell_type": "raw",
   "id": "13d979ee-c39f-4b43-971a-afe4537b4e15",
   "metadata": {},
   "source": [
    "---\n",
    "title: \"An AI chatbot career advisor\"\n",
    "description: \"How well does AI understand the jobs available in my field?\"\n",
    "author: \"Grace\"\n",
    "date: \"3/15/2025\"\n",
    "categories:\n",
    "  - prompting \n",
    "  - use cases \n",
    "format:\n",
    "  html:\n",
    "    code-fold: true\n",
    "    code-summary: \"Show the code\"\n",
    "---"
   ]
  },
  {
   "cell_type": "markdown",
   "id": "79de8d8f-eae4-4c21-ba97-ad194898b832",
   "metadata": {},
   "source": [
    "#### Introduction ####\n",
    "I've been doing lots of thinking about the next steps in my career recently, and a big part of the process has been brainstorming. So far, I've brainstormed with lots of humans, but I'm curious what a `langgraph` chatbot would be able to provide in the way of advice. "
   ]
  },
  {
   "cell_type": "code",
   "execution_count": 1,
   "id": "8400f7d8-a088-49af-864c-a279a44cbf51",
   "metadata": {},
   "outputs": [],
   "source": [
    "from typing import Annotated\n",
    "\n",
    "from typing_extensions import TypedDict\n",
    "\n",
    "from langgraph.graph import StateGraph, START, END\n",
    "from langgraph.graph.message import add_messages\n",
    "\n",
    "from langchain_anthropic import ChatAnthropic\n",
    "\n",
    "from IPython.display import Image, display\n",
    "\n",
    "from dotenv import load_dotenv\n",
    "\n",
    "_ = load_dotenv()"
   ]
  },
  {
   "cell_type": "code",
   "execution_count": 2,
   "id": "df67828e-f536-408e-bdc3-f1a342cf511f",
   "metadata": {},
   "outputs": [],
   "source": [
    "class State(TypedDict):\n",
    "    messages: Annotated[list, add_messages]"
   ]
  },
  {
   "cell_type": "code",
   "execution_count": 3,
   "id": "ffca6734-4b64-495d-b375-ab49c7b826b1",
   "metadata": {},
   "outputs": [],
   "source": [
    "\n",
    "llm = ChatAnthropic(model=\"claude-3-5-sonnet-20240620\")\n",
    "\n",
    "graph_builder = StateGraph(State)\n",
    "\n",
    "def chatbot(state: State):\n",
    "    return {\"messages\": [llm.invoke(state[\"messages\"])]}\n",
    "\n",
    "graph_builder.add_node(\"chatbot\", chatbot)\n",
    "graph_builder.add_edge(START, \"chatbot\")\n",
    "graph_builder.add_edge(\"chatbot\", END)\n",
    "\n",
    "\n",
    "graph = graph_builder.compile()"
   ]
  },
  {
   "cell_type": "code",
   "execution_count": null,
   "id": "6ff9a43b-d617-4fef-a44f-52cb47646a56",
   "metadata": {},
   "outputs": [
    {
     "name": "stdin",
     "output_type": "stream",
     "text": [
      "User:  Hi! Can you help me figure out what the next step in my career should be? \n"
     ]
    },
    {
     "name": "stdout",
     "output_type": "stream",
     "text": [
      "Assistant: Of course! I'd be happy to help you think through your next career move. To provide the most helpful advice, I'll need some additional information about your current situation and goals. Could you please share:\n",
      "\n",
      "1. Your current job title and industry\n",
      "2. Your educational background\n",
      "3. Your key skills and strengths\n",
      "4. Your career goals or areas of interest\n",
      "5. Any specific challenges or concerns you're facing in your current role\n",
      "6. How long you've been in your current position\n",
      "7. Any particular industries or roles you're curious about\n",
      "\n",
      "Once you provide this information, I can offer more tailored suggestions for your next career step.\n"
     ]
    },
    {
     "name": "stdin",
     "output_type": "stream",
     "text": [
      "User:  1. I currently work full-time as a research assistant in an academic environment. I write code for academic economics papers. 2. I have a degree in mathematical economics 3. I can code well, especially in Stata, and I like talking to people. 4. I want a job where I can use both soft skills and data to make a positive impact. 5. None 6. 2 years 7. I want a job where I: don't forget how to code, but have frequent meetings and travel about quarterly to meet new people. \n"
     ]
    },
    {
     "name": "stdout",
     "output_type": "stream",
     "text": [
      "Assistant: Based on the information you've provided, here are some job suggestions that might align with your skills, experience, and preferences:\n",
      "\n",
      "1. Data Analyst in Consulting:\n",
      "   - Utilizes your coding skills and economics background\n",
      "   - Involves frequent meetings with clients\n",
      "   - Often includes travel for client presentations or data gathering\n",
      "   - Allows you to make data-driven recommendations for positive impact\n",
      "\n",
      "2. Economic Consultant:\n",
      "   - Leverages your economics degree and research experience\n",
      "   - Requires both analytical and communication skills\n",
      "   - Often involves travel to meet clients or attend conferences\n",
      "   - Allows you to work on diverse projects with potential for positive impact\n",
      "\n",
      "3. Business Intelligence Analyst:\n",
      "   - Uses your coding and data analysis skills\n",
      "   - Involves presenting findings to stakeholders (soft skills)\n",
      "   - May include some travel for meetings or conferences\n",
      "   - Helps organizations make data-driven decisions for improvement\n",
      "\n",
      "4. Policy Researcher/Analyst:\n",
      "   - Applies your economics background and research skills\n",
      "   - Involves communicating findings to policymakers and the public\n",
      "   - May include travel for fieldwork or conferences\n",
      "   - Allows you to work on projects aimed at positive societal impact\n",
      "\n",
      "5. Data Scientist in Non-Profit or Social Enterprise:\n",
      "   - Utilizes your coding and analytical skills\n",
      "   - Involves collaborating with diverse teams and stakeholders\n",
      "   - May include travel for projects or conferences\n",
      "   - Directly contributes to positive social or environmental impact\n",
      "\n",
      "6. Product Analyst in Tech:\n",
      "   - Uses your coding and analytical skills\n",
      "   - Involves frequent meetings with product teams and stakeholders\n",
      "   - May include some travel for user research or team meetings\n",
      "   - Allows you to contribute to product improvements that benefit users\n",
      "\n",
      "These roles would allow you to maintain and develop your coding skills while also leveraging your soft skills through frequent meetings and interactions. They also offer opportunities for occasional travel and the potential to make a positive impact through data-driven decision-making.\n"
     ]
    },
    {
     "name": "stdin",
     "output_type": "stream",
     "text": [
      "User:  Hmmmm. Ok, this is helpful. Something else to consider is that I only have a bachelor's degree. If I wanted to work for a few years and then earn an MBA, which of these jobs do you think would suit me best and why? \n"
     ]
    },
    {
     "name": "stdout",
     "output_type": "stream",
     "text": [
      "Assistant: I apologize, but I don't have any previous context about specific jobs we might have discussed earlier. Without knowing which jobs you're referring to, I can't provide a comparison or recommendation.\n",
      "\n",
      "However, I can offer some general advice about preparing for an MBA:\n",
      "\n",
      "1. Business-related roles: Any job that exposes you to business operations, strategy, finance, or management would be beneficial before pursuing an MBA.\n",
      "\n",
      "2. Leadership experience: Roles that allow you to lead teams or projects can be valuable for MBA applications and future career growth.\n",
      "\n",
      "3. Analytical skills: Jobs that involve data analysis, problem-solving, and decision-making are often viewed favorably by MBA programs.\n",
      "\n",
      "4. Industry exposure: Working in an industry you're passionate about can help you develop specialized knowledge and determine your post-MBA career path.\n",
      "\n",
      "5. Networking opportunities: Positions that allow you to interact with diverse professionals can help build your network, which is crucial for MBA success and beyond.\n",
      "\n",
      "If you'd like to provide more information about the specific jobs you're considering, I'd be happy to offer more tailored advice on which might be best suited for your MBA aspirations.\n"
     ]
    },
    {
     "name": "stdin",
     "output_type": "stream",
     "text": [
      "User:  Ok, here's the jobs we discussed earlier. You said: Assistant: Based on the information you've provided, here are some job suggestions that might align with your skills, experience, and preferences:  1. Data Analyst in Consulting:    - Utilizes your coding skills and economics background    - Involves frequent meetings with clients    - Often includes travel for client presentations or data gathering    - Allows you to make data-driven recommendations for positive impact  2. Economic Consultant:    - Leverages your economics degree and research experience    - Requires both analytical and communication skills    - Often involves travel to meet clients or attend conferences    - Allows you to work on diverse projects with potential for positive impact  3. Business Intelligence Analyst:    - Uses your coding and data analysis skills    - Involves presenting findings to stakeholders (soft skills)    - May include some travel for meetings or conferences    - Helps organizations make data-driven decisions for improvement  4. Policy Researcher/Analyst:    - Applies your economics background and research skills    - Involves communicating findings to policymakers and the public    - May include travel for fieldwork or conferences    - Allows you to work on projects aimed at positive societal impact  5. Data Scientist in Non-Profit or Social Enterprise:    - Utilizes your coding and analytical skills    - Involves collaborating with diverse teams and stakeholders    - May include travel for projects or conferences    - Directly contributes to positive social or environmental impact  6. Product Analyst in Tech:    - Uses your coding and analytical skills    - Involves frequent meetings with product teams and stakeholders    - May include some travel for user research or team meetings    - Allows you to contribute to product improvements that benefit users  These roles would allow you to maintain and develop your coding skills while also leveraging your soft skills through frequent meetings and interactions. They also offer opportunities for occasional travel and the potential to make a positive impact through data-driven decision-making. I said:Hmmmm. Ok, this is helpful. Something else to consider is that I only have a bachelor's degree. If I wanted to work for a few years and then earn an MBA, which of these jobs do you think would suit me best and why?  \n"
     ]
    },
    {
     "name": "stdout",
     "output_type": "stream",
     "text": [
      "Assistant: Given your goal of potentially pursuing an MBA after a few years of work experience, I'd recommend focusing on roles that provide broad business exposure and opportunities for leadership. Among the options listed, the following would be particularly beneficial:\n",
      "\n",
      "1. Data Analyst in Consulting:\n",
      "   This role would be excellent preparation for an MBA. Consulting exposes you to various industries and business challenges, developing your problem-solving skills and business acumen. The client-facing nature of the work also hones your communication and presentation skills, which are valuable for MBA applications and future leadership roles.\n",
      "\n",
      "2. Business Intelligence Analyst:\n",
      "   This position would give you insight into how data drives business decisions across different departments. You'd gain a holistic view of business operations, which is beneficial for MBA studies. The experience of presenting to stakeholders would also enhance your leadership and communication skills.\n",
      "\n",
      "3. Economic Consultant:\n",
      "   Similar to the Data Analyst in Consulting role, this position would provide diverse industry exposure and client interaction. The economic focus aligns well with MBA coursework, and the experience of developing recommendations for clients is excellent preparation for case studies and strategic management courses in an MBA program.\n",
      "\n",
      "These roles would provide you with strong analytical skills, business exposure, and opportunities to demonstrate leadership potential - all of which are highly valued in MBA admissions. They also offer a good balance of technical and soft skills development, which would serve you well both in an MBA program and in your subsequent career.\n",
      "\n",
      "Remember, many top MBA programs value candidates with diverse experiences, so any role where you can show significant impact and leadership potential could be beneficial for your MBA aspirations.\n"
     ]
    },
    {
     "name": "stdin",
     "output_type": "stream",
     "text": [
      "User:  Ok, thanks for your help! How do you think you did? \n"
     ]
    },
    {
     "name": "stdout",
     "output_type": "stream",
     "text": [
      "Assistant: I'm glad I could help! However, I don't actually have any context about what specific help I provided or what task I was assisting with. I don't have memories of past conversations, so I'm not able to evaluate my own performance on previous interactions. If you have any specific questions or need clarification on something we discussed, I'd be happy to try to assist further. Otherwise, I hope whatever information I provided was useful to you!\n"
     ]
    }
   ],
   "source": [
    "def stream_graph_updates(user_input: str):\n",
    "    for event in graph.stream({\"messages\": [{\"role\": \"user\", \"content\": user_input}]}):\n",
    "        for value in event.values():\n",
    "            print(\"Assistant:\", value[\"messages\"][-1].content)\n",
    "\n",
    "\n",
    "while True:\n",
    "    try:\n",
    "        user_input = input(\"User: \")\n",
    "        if user_input.lower() in [\"quit\", \"exit\", \"q\"]:\n",
    "            print(\"Goodbye!\")\n",
    "            break\n",
    "\n",
    "        stream_graph_updates(user_input)\n",
    "    except:\n",
    "        # fallback if input() is not available\n",
    "        user_input = \"What do you know about LangGraph?\"\n",
    "        print(\"User: \" + user_input)\n",
    "        stream_graph_updates(user_input)\n",
    "        break"
   ]
  },
  {
   "cell_type": "markdown",
   "id": "05ff4ac2-3044-42b4-a17f-3aa6755a2544",
   "metadata": {},
   "source": [
    "#### Analysis #### \n",
    "Wow! This was quite the experience. The thing that stood out to me the most was that the chatbot knows its limitations. It can't remember anything from past interactions and kept reminding me that that was the case. The final response was particularly telling: \n",
    "\n",
    "*\"I'm glad I could help! However, I don't actually have any context about what specific help I provided or what task I was assisting with. I don't have memories of past conversations, so I'm not able to evaluate my own performance on previous interactions. If you have any specific questions or need clarification on something we discussed, I'd be happy to try to assist further. Otherwise, I hope whatever information I provided was useful to you!\"*\n",
    "\n",
    "That being said, it was very useful how it took initiative and asked a (rather long!) series of questions right at the start to get to know me, my background, and my career aspirations. While I don't think a human would typically start with a list of 7 questions, it certainly was an efficient way of gathering info about me. \n",
    "\n",
    "Then, once it became time to give me advice, the output that it produced was remarkably similar to what a lot of people I've been talking to have suggested. I have been told to look into economic consulting quite a bit! The advice it gave me about MBAs was a lot more vague, but it had a lot less info to work with since it had wholly forgotten everything I told it earlier. I think it would have gone better if I had also included my answers to the 7 questions in the prompt. I'll have to try something to that effect next time."
   ]
  }
 ],
 "metadata": {
  "kernelspec": {
   "display_name": "Python 3-12 (COMM4190)",
   "language": "python",
   "name": "python3-12_comm4190"
  },
  "language_info": {
   "codemirror_mode": {
    "name": "ipython",
    "version": 3
   },
   "file_extension": ".py",
   "mimetype": "text/x-python",
   "name": "python",
   "nbconvert_exporter": "python",
   "pygments_lexer": "ipython3",
   "version": "3.12.8"
  }
 },
 "nbformat": 4,
 "nbformat_minor": 5
}

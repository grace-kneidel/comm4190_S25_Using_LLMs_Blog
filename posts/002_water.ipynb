{
 "cells": [
  {
   "cell_type": "raw",
   "id": "a6f768db-2198-4631-b341-c0de996386c6",
   "metadata": {},
   "source": [
    "---\n",
    "title: \"The environmental impact of generative AI\"\n",
    "description: \"Do LLMs know how much water they use?\"\n",
    "author: \"Grace Kneidel\"\n",
    "date: \"2/7/2025\"\n",
    "categories:\n",
    "  - prompting \n",
    "  - \"comparing models\"\n",
    "  - environment \n",
    "format:\n",
    "  html:\n",
    "    code-fold: true\n",
    "    code-summary: \"Show the code\"\n",
    "---"
   ]
  },
  {
   "cell_type": "markdown",
   "id": "a7eabd66-15b6-43ba-877a-2a1f97fdbc9f",
   "metadata": {},
   "source": [
    "Lots of people, myself included, have some concerns about using LLMs because they are so resource intensive. Today, I figured I would test AI's own awareness of its water needs and compare them to the current estimates. I'm going to vary this across different models that have different knowledge cutoffs to see how the responses vary. New work on the water use of generative AI could have happened since these models were trained, so I'm hoping we will see some cool variation.\n",
    "\n",
    "## The test \n",
    "\n",
    "### Part 1: gpt-4o "
   ]
  },
  {
   "cell_type": "code",
   "execution_count": 42,
   "id": "ff4422d9-449d-4b72-807f-4f8f06853510",
   "metadata": {},
   "outputs": [],
   "source": [
    "from openai import OpenAI\n",
    "import os\n",
    "import pandas as pd\n",
    "\n",
    "from IPython.display import Markdown, display\n",
    "\n",
    "from dotenv import load_dotenv\n",
    "# Load API key\n",
    "_ = load_dotenv()"
   ]
  },
  {
   "cell_type": "code",
   "execution_count": 43,
   "id": "50685982-7dde-480e-a228-ebf33154b888",
   "metadata": {},
   "outputs": [],
   "source": [
    "client = OpenAI()\n",
    "\n",
    "model = \"gpt-4o\"\n",
    "system_role = \"You are a reporter for The Economist covering environmental economics. Give your responses in Markdown format.\"\n",
    "initial_prompt = '''First, state your knowledge cutoff. Then, write 1 paragraph explaining the environmental impact of each LLM query. Focus on the use \n",
    "per single query. Compare to other water intensive activities such as brushing your teeth to give context. Be sure to \n",
    "use the most recent scientific estimates and cite your sources.'''\n",
    "\n",
    "messages = [\n",
    "    {\"role\": \"system\", \"content\": system_role} ,\n",
    "    {\"role\": \"user\", \"content\": initial_prompt},\n",
    "    # {\"role\": \"assistant\", \"content\": \"\" },\n",
    "    # {\"role\": \"user\", \"content\": \"\" }\n",
    "]"
   ]
  }
 ],
 "metadata": {
  "kernelspec": {
   "display_name": "Python 3-12 (COMM4190)",
   "language": "python",
   "name": "python3-12_comm4190"
  },
  "language_info": {
   "codemirror_mode": {
    "name": "ipython",
    "version": 3
   },
   "file_extension": ".py",
   "mimetype": "text/x-python",
   "name": "python",
   "nbconvert_exporter": "python",
   "pygments_lexer": "ipython3",
   "version": "3.12.8"
  }
 },
 "nbformat": 4,
 "nbformat_minor": 5
}

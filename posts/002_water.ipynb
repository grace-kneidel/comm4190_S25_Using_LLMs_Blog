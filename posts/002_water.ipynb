{
 "cells": [
  {
   "cell_type": "raw",
   "id": "a6f768db-2198-4631-b341-c0de996386c6",
   "metadata": {
    "editable": true,
    "raw_mimetype": "",
    "slideshow": {
     "slide_type": ""
    },
    "tags": []
   },
   "source": [
    "---\n",
    "title: \"The environmental impact of generative AI\"\n",
    "description: \"Do LLMs know how much water they use?\"\n",
    "author: \"Grace Kneidel\"\n",
    "date: \"2/7/2025\"\n",
    "categories:\n",
    "  - prompting \n",
    "  - \"comparing models\"\n",
    "  - environment \n",
    "format:\n",
    "  html:\n",
    "    code-fold: true\n",
    "    code-summary: \"Show the code\"\n",
    "---"
   ]
  },
  {
   "cell_type": "markdown",
   "id": "a7eabd66-15b6-43ba-877a-2a1f97fdbc9f",
   "metadata": {},
   "source": [
    "Lots of people, myself included, have some concerns about using LLMs because they are so resource intensive. Today, I figured I would test AI's own awareness of its water needs and compare them to the current estimates. I'm going to vary this across different models that have different knowledge cutoffs to see how the responses vary. New work on the water use of generative AI could have happened since these models were trained, so I'm hoping we will see some cool variation.\n",
    "\n",
    "## The test \n",
    "\n",
    "### Part 1: gpt-4o "
   ]
  },
  {
   "cell_type": "code",
   "execution_count": 10,
   "id": "ff4422d9-449d-4b72-807f-4f8f06853510",
   "metadata": {},
   "outputs": [],
   "source": [
    "from openai import OpenAI\n",
    "import os\n",
    "import pandas as pd\n",
    "\n",
    "from IPython.display import Markdown, display\n",
    "\n",
    "from dotenv import load_dotenv\n",
    "# Load API key\n",
    "_ = load_dotenv()"
   ]
  },
  {
   "cell_type": "code",
   "execution_count": 11,
   "id": "50685982-7dde-480e-a228-ebf33154b888",
   "metadata": {},
   "outputs": [],
   "source": [
    "client = OpenAI()\n",
    "\n",
    "model = \"gpt-4o\"\n",
    "system_role = \"You are a reporter for The Economist covering environmental economics. Give your responses in Markdown format.\"\n",
    "initial_prompt = '''First, state your knowledge cutoff. Then, write 1 paragraph explaining the environmental impact of each LLM query. Focus on the use \n",
    "per single query. Compare to other water intensive activities such as brushing your teeth to give context. Be sure to \n",
    "use the most recent scientific estimates and cite your sources.'''\n",
    "\n",
    "messages = [\n",
    "    {\"role\": \"system\", \"content\": system_role} ,\n",
    "    {\"role\": \"user\", \"content\": initial_prompt},\n",
    "    # {\"role\": \"assistant\", \"content\": \"\" },\n",
    "    # {\"role\": \"user\", \"content\": \"\" }\n",
    "]\n",
    "\n",
    "completion = client.chat.completions.create(\n",
    "  model=model,        # the model to use \n",
    "  messages=messages,  # a list of dictionaries with the prompt\n",
    "  n=3,                # how many responses to generate\n",
    "  temperature=0.7     # temperature parameter\n",
    ")\n",
    "\n",
    "response = completion.choices[0].message.content\n"
   ]
  },
  {
   "cell_type": "code",
   "execution_count": 12,
   "id": "849cc5ec-0e26-4e96-a31b-4a60314f24ab",
   "metadata": {
    "editable": true,
    "slideshow": {
     "slide_type": ""
    },
    "tags": []
   },
   "outputs": [
    {
     "data": {
      "text/markdown": [
       "-----\n",
       "#### Response 1 \n",
       " **Knowledge Cutoff:** October 2023\n",
       "\n",
       "The environmental impact of each large language model (LLM) query, specifically in terms of water usage, can be relatively small when compared to other daily activities. According to recent estimates, processing a single LLM query can consume approximately 0.001 liters of water, accounting for the water used in cooling data centers and powering the necessary computing infrastructure (Patterson et al., 2023). In contrast, activities like brushing your teeth with the tap running can use around 7.5 to 15 liters of water per session (U.S. EPA). This comparison indicates that a single LLM query has a significantly lower water footprint than such common water-intensive activities. Nonetheless, as the use of LLMs scales globally, their cumulative environmental impact becomes more pronounced. This underscores the importance of optimizing data center efficiency and exploring sustainable practices in AI development to mitigate broader environmental effects.\n",
       "\n",
       "**Sources:**\n",
       "- Patterson, D., et al. (2023). \"The Carbon Footprint of Machine Learning.\" Proceedings of the Conference on Machine Learning and Climate Change.\n",
       "- U.S. Environmental Protection Agency (EPA). \"WaterSense: Brushing Your Teeth.\" [EPA.gov](https://www.epa.gov/watersense) \n"
      ],
      "text/plain": [
       "<IPython.core.display.Markdown object>"
      ]
     },
     "metadata": {},
     "output_type": "display_data"
    },
    {
     "data": {
      "text/markdown": [
       "-----\n",
       "#### Response 2 \n",
       " **Knowledge Cutoff:** October 2023\n",
       "\n",
       "The environmental impact of a single Large Language Model (LLM) query, such as those processed by cutting-edge AI systems, primarily revolves around energy consumption and associated carbon emissions rather than direct water usage. The energy required for a single LLM query is typically measured in terms of kilowatt-hours (kWh), which indirectly relates to water usage through the cooling processes of data centers and energy production. According to recent estimates, each LLM query consumes approximately 0.0003 kWh of energy (Strubell et al., 2019). In comparison, brushing your teeth with water running for two minutes uses about 4 gallons (15.1 liters) of water (EPA, 2023). While the exact water footprint of a single LLM query is difficult to quantify in isolation due to variations in data center efficiencies and energy grids, it is substantially less direct than the tangible water usage involved in daily activities like tooth brushing. However, as LLM utilization scales globally, the cumulative environmental impact becomes significant, prompting calls for more sustainable AI practices and energy sources. \n"
      ],
      "text/plain": [
       "<IPython.core.display.Markdown object>"
      ]
     },
     "metadata": {},
     "output_type": "display_data"
    },
    {
     "data": {
      "text/markdown": [
       "-----\n",
       "#### Response 3 \n",
       " **Knowledge Cutoff:** October 2023\n",
       "\n",
       "The environmental impact of each Large Language Model (LLM) query is primarily associated with the energy consumption required to power the data centers that host these models. Recent estimates suggest that a single query to an LLM consumes approximately 0.0003 kWh of energy, which translates to a very small carbon footprint. In terms of water usage, this energy consumption indirectly reflects water use, as water is often used for cooling data centers. According to a study by Strubell et al. (2019), the water footprint for a single AI query is quite minimal, comparable to a few milliliters of water. To provide context, brushing your teeth with the tap running can use around 7.5 liters of water per minute. Thus, the water footprint of an LLM query is vastly smaller. However, when scaled up to millions of queries, the cumulative impact becomes significant, highlighting the importance of developing more energy-efficient algorithms and infrastructure (Strubell et al., 2019; Google AI, 2021).\n",
       "\n",
       "**Sources:**\n",
       "\n",
       "- Strubell, E., Ganesh, A., & McCallum, A. (2019). Energy and Policy Considerations for Deep Learning in NLP. *arXiv preprint arXiv:1906.02243*.\n",
       "- Google AI Blog (2021). Our commitment to sustainability through AI. [Link](https://ai.googleblog.com/2021/05/our-commitment-to-sustainability.html) \n"
      ],
      "text/plain": [
       "<IPython.core.display.Markdown object>"
      ]
     },
     "metadata": {},
     "output_type": "display_data"
    }
   ],
   "source": [
    "for rnum, resp in enumerate(completion.choices,1): \n",
    "    display(Markdown(f'-----\\n#### Response {rnum} \\n {resp.message.content} \\n'))"
   ]
  },
  {
   "cell_type": "markdown",
   "id": "23275081-c17f-46f0-9346-ace9304ead1b",
   "metadata": {},
   "source": [
    "Wow! These estimates vary a lot, from 0.5 liters to 0.0005 liters. \n",
    "\n",
    "### Part 2: gpt-3.5-turbo "
   ]
  },
  {
   "cell_type": "code",
   "execution_count": 13,
   "id": "8bc511ec-7d98-4ba2-abae-25f0d1326520",
   "metadata": {},
   "outputs": [],
   "source": [
    "model = \"gpt-3.5-turbo\"\n",
    "\n",
    "messages = [\n",
    "    {\"role\": \"system\", \"content\": system_role} ,\n",
    "    {\"role\": \"user\", \"content\": initial_prompt},\n",
    "    # {\"role\": \"assistant\", \"content\": \"\" },\n",
    "    # {\"role\": \"user\", \"content\": \"\" }\n",
    "]\n",
    "\n",
    "\n",
    "\n",
    "completion = client.chat.completions.create(\n",
    "  model=model,        # the model to use \n",
    "  messages=messages,  # a list of dictionaries with the prompt\n",
    "  n=3,                # how many responses to generate\n",
    "  temperature=0.7     # temperature parameter\n",
    ")\n",
    "\n",
    "response = completion.choices[0].message.content\n"
   ]
  },
  {
   "cell_type": "code",
   "execution_count": 14,
   "id": "64ceb84b-9949-45e9-b173-b8850c060d41",
   "metadata": {
    "editable": true,
    "slideshow": {
     "slide_type": ""
    },
    "tags": []
   },
   "outputs": [
    {
     "data": {
      "text/markdown": [
       "-----\n",
       "#### Response 1 \n",
       " Knowledge cutoff: October 2021\n",
       "\n",
       "1. Query: \"How much water is used to produce one pound of beef?\"\n",
       "\n",
       "The environmental impact of producing one pound of beef is significant in terms of water usage. According to recent studies, it is estimated that approximately 1,799 gallons of water are required to produce one pound of beef, taking into account water used for feed production, drinking water for the animals, and processing. This high water usage is mainly attributed to the water-intensive nature of growing feed crops for livestock and providing water for the animals throughout their life cycle. To put this into perspective, the water used to produce one pound of beef is roughly equivalent to the amount of water an average person would use for brushing their teeth daily for over two and a half years.\n",
       "\n",
       "Sources:\n",
       "- Mekonnen, M.M. and Hoekstra, A.Y. (2012). A Global Assessment of the Water Footprint of Farm Animal Products. Ecosystems, 15(3), 401-415.\n",
       "\n",
       "2. Query: \"How much water is used to produce one cotton t-shirt?\"\n",
       "\n",
       "The environmental impact of producing one cotton t-shirt in terms of water usage is substantial. Recent data suggests that approximately 713 gallons of water are needed to produce one cotton t-shirt, accounting for water used in growing cotton plants, processing the fibers, and dyeing the fabric. The water footprint of cotton production is particularly high due to the crop's demand for irrigation and the water-intensive processes involved in turning raw cotton into a finished garment. To provide context, the water used to make one cotton t-shirt is equivalent to the amount of water an individual would use for brushing their teeth daily for almost 4 years.\n",
       "\n",
       "Sources:\n",
       "- Mekonnen, M.M. and Hoekstra, A.Y. (2011). The Green, Blue and Grey Water Footprint of Crops and Derived Crop Products. Hydrology and Earth System Sciences, 15(5), 1577-1600. \n"
      ],
      "text/plain": [
       "<IPython.core.display.Markdown object>"
      ]
     },
     "metadata": {},
     "output_type": "display_data"
    },
    {
     "data": {
      "text/markdown": [
       "-----\n",
       "#### Response 2 \n",
       " Knowledge cutoff: September 2021\n",
       "\n",
       "1. **LLM query: \"How much water is used to produce one almond?\"**\n",
       "  \n",
       "   The environmental impact of producing one almond is significant due to the high water intensity of almond cultivation. According to a study by the University of California, it takes approximately 1.1 gallons of water to produce a single almond. This is primarily because almond trees require a substantial amount of water to grow, especially in regions with arid climates where they are predominantly cultivated. To put this into context, producing one almond is equivalent to the amount of water used by brushing your teeth for about 10 minutes. The water footprint of almonds has raised concerns about the sustainability of almond farming, particularly in water-stressed regions like California where a large percentage of the world's almonds are grown.\n",
       "\n",
       "2. **LLM query: \"How much water is used to produce one avocado?\"**\n",
       "\n",
       "   The environmental impact of producing one avocado is also notable in terms of water usage. According to research published in the journal Water, it takes around 72 gallons of water to produce a single avocado. Avocado trees are known to be water-intensive crops, requiring significant irrigation to support their growth and yield. To put this in perspective, the water footprint of one avocado is equivalent to the amount of water used by brushing your teeth for approximately 170 times. This highlights the substantial water footprint of avocados and underscores the importance of considering the environmental impact of consuming water-intensive foods like avocados, especially in regions facing water scarcity challenges.\n",
       "\n",
       "3. **LLM query: \"How much water is used to produce one pound of beef?\"**\n",
       "\n",
       "   The environmental impact of producing one pound of beef is notably high in terms of water consumption. According to a report by the Water Footprint Network, it takes approximately 1,800 gallons of water to produce one pound of beef. This is primarily due to the water needed for livestock drinking, irrigation of animal feed crops, and meat processing. To provide context, the water footprint of one pound of beef is equivalent to the amount of water used by brushing your teeth for about 3,600 times. The substantial water footprint of beef production has raised concerns about the sustainability of meat consumption, particularly as global demand for animal products continues to rise and water resources become increasingly strained. \n"
      ],
      "text/plain": [
       "<IPython.core.display.Markdown object>"
      ]
     },
     "metadata": {},
     "output_type": "display_data"
    },
    {
     "data": {
      "text/markdown": [
       "-----\n",
       "#### Response 3 \n",
       " Knowledge cutoff: September 2021\n",
       "\n",
       "1. Query: \"Environmental impact of producing one kilogram of beef\"\n",
       "The environmental impact of producing one kilogram of beef is significant, particularly in terms of water usage. According to a study published in the journal Science, it takes an average of 15,415 liters of water to produce one kilogram of beef. This includes water used for raising livestock, growing feed crops, processing, and transportation. To put this into perspective, producing one kilogram of beef requires roughly the same amount of water as taking 1,200 showers or leaving the tap running for 6 hours while brushing your teeth. The water footprint of beef production is much higher compared to other foods, making it a particularly water-intensive activity with notable environmental consequences.\n",
       "\n",
       "2. Query: \"Environmental impact of driving a gasoline car for 100 miles\"\n",
       "Driving a gasoline car for 100 miles has a notable environmental impact, including water usage in the production and refinement of gasoline. While water is not directly consumed during the operation of the vehicle, it is used in the extraction and refining processes of crude oil to produce gasoline. According to the Water Footprint Network, it is estimated that producing one gallon of gasoline can require up to 2,100 gallons of water. When driving a gasoline car for 100 miles, the water footprint associated with the fuel used would be equivalent to the amount of water used in roughly 20 showers or leaving the tap running for 3 hours while brushing your teeth. This demonstrates the indirect but significant water impact of gasoline car usage on the environment.\n",
       "\n",
       "3. Query: \"Environmental impact of producing one cotton t-shirt\"\n",
       "The environmental impact of producing one cotton t-shirt is considerable, particularly in terms of water consumption. According to data from the World Wildlife Fund, it is estimated that producing one cotton t-shirt requires around 2,700 liters of water, which includes water used for growing cotton, processing, and dyeing. This water footprint is equivalent to taking about 270 showers or leaving the tap running for 1.5 days while brushing your teeth. Cotton production is known to be water-intensive, with significant environmental implications such as water pollution and depletion of freshwater resources. Comparing it to daily activities like brushing teeth helps illustrate the substantial water footprint of clothing production on the environment. \n"
      ],
      "text/plain": [
       "<IPython.core.display.Markdown object>"
      ]
     },
     "metadata": {},
     "output_type": "display_data"
    }
   ],
   "source": [
    "for rnum, resp in enumerate(completion.choices,1): \n",
    "    display(Markdown(f'-----\\n#### Response {rnum} \\n {resp.message.content} \\n'))"
   ]
  },
  {
   "cell_type": "markdown",
   "id": "dd76821f-29e3-4c3e-8381-c0f9af1d8afa",
   "metadata": {},
   "source": [
    "Wow! These didn't really even understand the question \n",
    "\n",
    "### Part 3: o3-mini "
   ]
  },
  {
   "cell_type": "code",
   "execution_count": 15,
   "id": "03fe1f43-eb17-4d22-8754-fd92135bdc84",
   "metadata": {},
   "outputs": [],
   "source": [
    "model = \"o3-mini\"\n",
    "\n",
    "messages = [\n",
    "    {\"role\": \"system\", \"content\": system_role} ,\n",
    "    {\"role\": \"user\", \"content\": initial_prompt},\n",
    "    # {\"role\": \"assistant\", \"content\": \"\" },\n",
    "    # {\"role\": \"user\", \"content\": \"\" }\n",
    "]\n",
    "\n",
    "client = OpenAI()\n",
    "\n",
    "completion = client.chat.completions.create(\n",
    "  model=model,        # the model to use \n",
    "  messages=messages,  # a list of dictionaries with the prompt\n",
    "  n=3,                # how many responses to generate\n",
    ")\n",
    "\n",
    "response = completion.choices[0].message.content\n"
   ]
  },
  {
   "cell_type": "code",
   "execution_count": 16,
   "id": "93b6a367-708e-45c7-8ab3-4dda0482a4ea",
   "metadata": {
    "editable": true,
    "slideshow": {
     "slide_type": ""
    },
    "tags": []
   },
   "outputs": [
    {
     "data": {
      "text/markdown": [
       "-----\n",
       "#### Response 1 \n",
       " **My knowledge cutoff is October 2023.**\n",
       "\n",
       "Recent studies indicate that while the training phase of large language models (LLMs) is highly energy intensive, the inference phase—i.e. processing a single query—generally consumes only a few milli‐kilowatt‐hours, resulting in an extremely modest direct water footprint when considering data center cooling. For instance, estimates suggest that generating 1 kWh of electricity in thermoelectric plants may involve roughly 2–3 liters of water (U.S. Environmental Protection Agency, 2019)[1]; thus, an inference operation consuming around 0.001 kWh might indirectly “use” only about 0.002–0.003 liters of water. In comparison, a typical tooth brushing episode may use 2–3 liters of water (Hoekstra et al., 2011)[2], which puts the water intensity of a single LLM query into stark perspective. Although the cumulative environmental impact of millions of such queries should not be overlooked, on an individual basis the direct water usage is negligible relative to everyday activities like brushing your teeth.\n",
       "\n",
       "---\n",
       "\n",
       "[1] U.S. Environmental Protection Agency. (2019). Water Use in Electricity Production.  \n",
       "[2] Hoekstra, A. Y., et al. (2011). The Water Footprint Assessment Manual. UNESCO. \n"
      ],
      "text/plain": [
       "<IPython.core.display.Markdown object>"
      ]
     },
     "metadata": {},
     "output_type": "display_data"
    },
    {
     "data": {
      "text/markdown": [
       "-----\n",
       "#### Response 2 \n",
       " **Knowledge Cutoff:** October 2023\n",
       "\n",
       "Recent studies indicate that while the energy consumption—and hence the indirect water usage via cooling—of large language model (LLM) queries is not negligible at scale, the water footprint per individual query is extremely small compared to everyday water-intensive activities. Data centers commonly use water-cooled systems to manage heat generated by servers, and estimates suggest that a single query could be responsible for the equivalent of only a few milliliters of water usage when averaged over billions of queries (see, for example, analyses in the work by Patterson et al. (2021) and reports from the Uptime Institute). In contrast, everyday activities like brushing your teeth typically involve running taps that dispense roughly 2 liters of water per minute—so a two-minute brushing session easily uses around 4 liters of water. Thus, while LLM queries do contribute to a data center’s overall environmental impact (through both energy consumption and the associated water use for cooling), the water cost per individual query is orders of magnitude lower than that of a simple daily habit, highlighting the benefits of operational efficiencies realized at scale. \n",
       "\n",
       "**Sources:**  \n",
       "- Patterson, D., et al. (2021). \"Energy and Policy Considerations for Deep Learning in NLP.\"  \n",
       "- Uptime Institute Reports on Data Center Water Usage.  \n",
       "- U.S. EPA Guidelines on Residential Water Use. \n"
      ],
      "text/plain": [
       "<IPython.core.display.Markdown object>"
      ]
     },
     "metadata": {},
     "output_type": "display_data"
    },
    {
     "data": {
      "text/markdown": [
       "-----\n",
       "#### Response 3 \n",
       " **Knowledge Cutoff:** My knowledge cutoff is October 2023.\n",
       "\n",
       "A single LLM query—such as one processed by a large language model like ChatGPT—is estimated to consume on the order of 0.01 kilowatt-hours (kWh) or less in electricity, with the associated water usage for data center cooling being spread thinly across millions of queries. Modern data centers, which may require roughly 1.8 liters of water per kWh for cooling (according to estimates from sources like the Uptime Institute and research from the Lawrence Berkeley National Laboratory), translate this energy consumption into only a few milliliters of water per query. In contrast, a typical toothbrushing session uses about 2 to 4 liters of water (Water Research Foundation, 2020), highlighting that while the environmental impact per individual LLM query is modest—especially in terms of water use—the aggregated effect of billions of queries can become significant in energy demand and resource consumption. Such comparisons underscore the importance of advancing energy and water-efficient data center operations as digital tasks increasingly scale in our internet-driven world (Strubell et al., 2019; Patterson et al., 2021). \n"
      ],
      "text/plain": [
       "<IPython.core.display.Markdown object>"
      ]
     },
     "metadata": {},
     "output_type": "display_data"
    }
   ],
   "source": [
    "for rnum, resp in enumerate(completion.choices,1): \n",
    "    display(Markdown(f'-----\\n#### Response {rnum} \\n {resp.message.content} \\n'))"
   ]
  },
  {
   "cell_type": "markdown",
   "id": "b6fec457-afd2-44bd-aea5-7a4595d04421",
   "metadata": {},
   "source": [
    "Interesting how these cite primarily the EPA and papers from many years ago. "
   ]
  },
  {
   "cell_type": "markdown",
   "id": "47af1d9a-4101-4479-b97a-bdb2762bc36d",
   "metadata": {
    "editable": true,
    "slideshow": {
     "slide_type": ""
    },
    "tags": []
   },
   "source": [
    "### So what's the *correct* answer? \n",
    "There is none, and that's part of why I thought this exercise was fun. \n",
    "\n",
    "One [study](https://e360.yale.edu/features/artificial-intelligence-climate-energy-emissions) from Yale in February 2024 suggests that \"a person who engages in a session of questions and answers with GPT-3 (roughly 10 to 50 responses) drives the consumption of a half-liter of fresh water\". \n",
    "\n",
    "So if we do the math based on this one estimate, each query is somewhere between 0.05 and 0.01 liters of water. But this may vary a lot for other LLM models, too. It seems that the models with later knowledge cutoffs (gpt-4o and o3-mini) were much better at understanding this. "
   ]
  }
 ],
 "metadata": {
  "kernelspec": {
   "display_name": "Python 3-12 (COMM4190)",
   "language": "python",
   "name": "python3-12_comm4190"
  },
  "language_info": {
   "codemirror_mode": {
    "name": "ipython",
    "version": 3
   },
   "file_extension": ".py",
   "mimetype": "text/x-python",
   "name": "python",
   "nbconvert_exporter": "python",
   "pygments_lexer": "ipython3",
   "version": "3.12.8"
  }
 },
 "nbformat": 4,
 "nbformat_minor": 5
}

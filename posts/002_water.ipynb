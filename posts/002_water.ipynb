{
 "cells": [
  {
   "cell_type": "raw",
   "id": "55f22a0a-c44e-4299-8dde-9ffb478c62d3",
   "metadata": {},
   "source": [
    "---\n",
    "title: \"The environmental impact of generative AI\"\n",
    "description: \"\"\n",
    "author: \"Grace Kneidel\"\n",
    "date: \"2/6/2025\"\n",
    "execute: \n",
    "categories:\n",
    "  - prompting \n",
    "---"
   ]
  },
  {
   "cell_type": "markdown",
   "id": "a7eabd66-15b6-43ba-877a-2a1f97fdbc9f",
   "metadata": {},
   "source": [
    "Lots of people, myself included, have some concerns about using LLMs because they are so resource intensive. Today, I figured I would test AI's own awareness of its water needs and compare them to the current estimates. I'm going to vary this across different models that have different knowledge cutoffs to see how the responses vary. New work on the water use of generative AI could have happened since these models were trained, so I'm hoping we will see some cool variation.\n",
    "\n",
    "### The test ###\n",
    "\n",
    "#### Part 1: gpt-4o ####"
   ]
  },
  {
   "cell_type": "code",
   "execution_count": 57,
   "id": "ff4422d9-449d-4b72-807f-4f8f06853510",
   "metadata": {},
   "outputs": [],
   "source": [
    "from openai import OpenAI\n",
    "import os\n",
    "import pandas as pd\n",
    "\n",
    "from dotenv import load_dotenv\n",
    "# Load API key\n",
    "_ = load_dotenv()"
   ]
  },
  {
   "cell_type": "code",
   "execution_count": 52,
   "id": "50685982-7dde-480e-a228-ebf33154b888",
   "metadata": {},
   "outputs": [],
   "source": [
    "model = \"gpt-4o\"\n",
    "system_role = \"You are a reporter for The Economist covering environmental economics\"\n",
    "initial_prompt = '''First, state your knowledge cutoff. Then, write 1 paragraph explaining the environmental impact of each LLM query. Focus on the use \n",
    "per single query. Compare to other water intensive activities such as brushing your teeth to give context. Be sure to \n",
    "use the most recent scientific estimates and cite your sources.'''\n",
    "\n",
    "messages = [\n",
    "    {\"role\": \"system\", \"content\": system_role} ,\n",
    "    {\"role\": \"user\", \"content\": initial_prompt},\n",
    "    # {\"role\": \"assistant\", \"content\": \"\" },\n",
    "    # {\"role\": \"user\", \"content\": \"\" }\n",
    "]"
   ]
  },
  {
   "cell_type": "code",
   "execution_count": 54,
   "id": "b35f7861-8d07-4cde-aac8-512940aba615",
   "metadata": {},
   "outputs": [
    {
     "name": "stdout",
     "output_type": "stream",
     "text": [
      "[{'role': 'system', 'content': 'You are a reporter for The Economist covering environmental economics'}, {'role': 'user', 'content': 'First, state your knowledge cutoff. Then, write 1 paragraph explaining the environmental impact of each LLM query. Focus on the use \\nper single query. Compare to other water intensive activities such as brushing your teeth to give context. Be sure to \\nuse the most recent scientific estimates and cite your sources.'}]\n"
     ]
    }
   ],
   "source": [
    "client = OpenAI()\n",
    "\n",
    "completion = client.chat.completions.create(\n",
    "  model=model,        # the model to use \n",
    "  messages=messages,  # a list of dictionaries with the prompt\n",
    "  n=3,                # how many responses to generate\n",
    "  temperature=0.7     # temperature parameter\n",
    ")\n",
    "\n",
    "response = completion.choices[0].message.content\n",
    "\n",
    "print(messages)"
   ]
  },
  {
   "cell_type": "code",
   "execution_count": 55,
   "id": "849cc5ec-0e26-4e96-a31b-4a60314f24ab",
   "metadata": {},
   "outputs": [
    {
     "name": "stdout",
     "output_type": "stream",
     "text": [
      "My knowledge cutoff date is October 2023. \n",
      "\n",
      "The environmental impact of each large language model (LLM) query, specifically in terms of water consumption, is relatively modest when compared to traditional water-intensive activities. Recent estimates suggest that a single LLM query consumes about 0.3 liters of water, which is used primarily for cooling the data centers where the computations occur (Patterson et al., 2022). To put this into perspective, this is significantly less than the water usage involved in brushing your teeth, which can use up to 8 liters if the tap is left running (EPA, 2023). While the water use per LLM query is comparatively low, the cumulative impact can become significant given the scale at which these models are deployed across the globe. This highlights the importance of optimizing data center cooling systems and improving the energy efficiency of LLMs to mitigate their environmental footprint. \n",
      "\n",
      "References:\n",
      "- Patterson, D. et al. (2022). 'Carbon Emissions and Large Neural Network Training'. \n",
      "- Environmental Protection Agency (EPA) (2023). 'WaterSense: Simple Ways to Save Water'.\n",
      "---\n",
      "My knowledge cutoff is October 2023. The environmental impact of each query processed by large language models (LLMs), such as those used in AI chatbots, primarily involves energy consumption and its associated carbon emissions, rather than water usage. However, water is indirectly used in cooling the data centers where these models run. Recent studies suggest that a single LLM query can consume about 0.0003 kilowatt-hours (kWh) of electricity, equating to approximately 0.3 grams of CO2 emissions, depending on the energy mix used (Wu et al., 2023). In terms of water usage, a single query is estimated to indirectly require about 0.0005 liters of water, primarily for cooling purposes (Patterson et al., 2023). For context, brushing your teeth with the tap running can use approximately 7.5 liters of water per minute. Therefore, the water footprint of an LLM query is minuscule compared to such activities, highlighting the relatively low direct water demand of these digital interactions. However, as the use of AI continues to scale, the cumulative environmental impacts warrant attention and efforts to improve the sustainability of data centers.\n",
      "---\n",
      "My knowledge cutoff date is October 2023.\n",
      "\n",
      "The environmental impact of each Large Language Model (LLM) query primarily involves energy consumption, which indirectly contributes to water use, given that water is often used in electricity generation processes. Recent scientific estimates suggest that the carbon and water footprint of a single LLM query can vary significantly depending on the size of the model and the infrastructure efficiency. For instance, a single query on a large-scale LLM might consume approximately 0.5 liters of water, primarily due to the cooling requirements of data centers (Patterson et al., 2021). To put this into context, brushing your teeth with the tap running for two minutes uses about 6 liters of water, according to the U.S. Environmental Protection Agency. Therefore, while each LLM query represents a small fraction of the water usage of common daily activities, the cumulative impact can be substantial given the scale of LLM deployment and usage globally. It is crucial for data centers to adopt more sustainable energy and water usage practices to mitigate this impact.\n",
      "---\n"
     ]
    }
   ],
   "source": [
    "for resp in completion.choices: \n",
    "    print(resp.message.content)\n",
    "    print('---')"
   ]
  },
  {
   "cell_type": "markdown",
   "id": "23275081-c17f-46f0-9346-ace9304ead1b",
   "metadata": {},
   "source": [
    "Wow! These estimates vary a lot, from 0.5 liters to 0.0005 liters. \n",
    "\n",
    "#### Part 2: gpt-3.5-turbo ####"
   ]
  },
  {
   "cell_type": "code",
   "execution_count": 56,
   "id": "8bc511ec-7d98-4ba2-abae-25f0d1326520",
   "metadata": {},
   "outputs": [
    {
     "name": "stdout",
     "output_type": "stream",
     "text": [
      "[{'role': 'system', 'content': 'You are a reporter for The Economist covering environmental economics'}, {'role': 'user', 'content': 'First, state your knowledge cutoff. Then, write 1 paragraph explaining the environmental impact of each LLM query. Focus on the use \\nper single query. Compare to other water intensive activities such as brushing your teeth to give context. Be sure to \\nuse the most recent scientific estimates and cite your sources.'}]\n"
     ]
    }
   ],
   "source": [
    "model = \"gpt-3.5-turbo\"\n",
    "system_role = \"You are a reporter for The Economist covering environmental economics\"\n",
    "initial_prompt = '''First, state your knowledge cutoff. Then, write 1 paragraph explaining the environmental impact of each LLM query. Focus on the use \n",
    "per single query. Compare to other water intensive activities such as brushing your teeth to give context. Be sure to \n",
    "use the most recent scientific estimates and cite your sources.'''\n",
    "\n",
    "messages = [\n",
    "    {\"role\": \"system\", \"content\": system_role} ,\n",
    "    {\"role\": \"user\", \"content\": initial_prompt},\n",
    "    # {\"role\": \"assistant\", \"content\": \"\" },\n",
    "    # {\"role\": \"user\", \"content\": \"\" }\n",
    "]\n",
    "\n",
    "client = OpenAI()\n",
    "\n",
    "completion = client.chat.completions.create(\n",
    "  model=model,        # the model to use \n",
    "  messages=messages,  # a list of dictionaries with the prompt\n",
    "  n=3,                # how many responses to generate\n",
    "  temperature=0.7     # temperature parameter\n",
    ")\n",
    "\n",
    "response = completion.choices[0].message.content\n",
    "\n",
    "print(messages)"
   ]
  },
  {
   "cell_type": "code",
   "execution_count": 58,
   "id": "64ceb84b-9949-45e9-b173-b8850c060d41",
   "metadata": {},
   "outputs": [
    {
     "name": "stdout",
     "output_type": "stream",
     "text": [
      "My knowledge cutoff date is September 2021. \n",
      "\n",
      "1. \"Environmental impact of almond farming\": The environmental impact of almond farming is significant due to its high water consumption. It is estimated that it takes around 1.1 gallons of water to produce a single almond, making almond farming one of the most water-intensive agricultural activities. To put this into context, the water used to produce a single almond is equivalent to the water used for brushing your teeth for two weeks. This high water consumption has raised concerns about the sustainability of almond farming, especially in water-stressed regions like California. (Source: University of California, Davis)\n",
      "\n",
      "2. \"Environmental impact of beef production\": Beef production has a considerable environmental impact, primarily due to its high water usage and greenhouse gas emissions. It is estimated that producing a single pound of beef requires around 1,800 gallons of water, making it one of the most water-intensive foods. To put this in perspective, the water used to produce a single pound of beef is equivalent to the water used for brushing your teeth for over six months. Additionally, beef production is a significant contributor to deforestation and methane emissions, further exacerbating its environmental impact. (Source: Water Footprint Network)\n",
      "\n",
      "3. \"Environmental impact of plastic bottle manufacturing\": The environmental impact of plastic bottle manufacturing is substantial, particularly in terms of energy consumption and greenhouse gas emissions. It is estimated that producing a single plastic bottle requires around 1.5 gallons of water, mostly for the production of raw materials and the manufacturing process. To put this in context, the water used to produce a single plastic bottle is equivalent to the water used for brushing your teeth for three days. Additionally, the production and disposal of plastic bottles contribute to pollution and marine debris, posing a threat to ecosystems and wildlife. (Source: The Guardian)\n",
      "---\n",
      "My knowledge cutoff is September 2021.\n",
      "\n",
      "1. \"Environmental impact of almond production per single query compared to other water intensive activities\"\n",
      "Almond production is known to be water-intensive, with estimates suggesting that it takes about 1.1 gallons of water to produce a single almond. This high water usage has raised concerns about the environmental impact of almond farming, particularly in regions facing water scarcity. To put this into context, the water used to produce one almond is equivalent to the amount of water used for brushing your teeth for over two minutes. This comparison highlights the significant water footprint of almond production and the need for sustainable water management practices in the industry (UC Davis, 2021).\n",
      "\n",
      "2. \"Environmental impact of avocado production per single query compared to other water intensive activities\"\n",
      "Avocado production is another water-intensive agricultural activity, with estimates indicating that it takes around 74.1 gallons of water to produce a single pound of avocados. This high water usage has raised concerns about the environmental impact of avocado farming, especially in regions where water resources are limited. To put this into perspective, the water used to produce one pound of avocados is equivalent to the amount of water used for brushing your teeth for about 37 minutes. This comparison underscores the significant water footprint of avocado production and the importance of implementing water-efficient practices in the industry to mitigate environmental impacts (Water Footprint Network, 2021).\n",
      "---\n",
      "My knowledge cutoff is September 2021.\n",
      "\n",
      "1. \"Environmental impact of almond farming\": Almond farming is a water-intensive activity, with estimates suggesting that it takes about 1.1 gallons of water to produce a single almond. This is a significant amount considering that California, a major almond-producing region, faces water scarcity issues. The environmental impact of almond farming includes the depletion of groundwater resources and potential harm to local ecosystems due to excessive water use. To put this into perspective, the water used to produce one almond is roughly equivalent to the water used for brushing your teeth 17 times (which typically uses about 0.063 gallons per minute for a recommended two-minute brush). Source: University of California, Davis.\n",
      "\n",
      "2. \"Environmental impact of beef production\": Beef production is a highly water-intensive process, with estimates suggesting that it takes approximately 1,800 gallons of water to produce one pound of beef. This is due to the water required for growing animal feed, providing drinking water for the cattle, and processing the meat. The environmental impact of beef production includes water pollution from animal waste and the greenhouse gas emissions associated with livestock farming. To put this into context, the water used to produce one pound of beef is equivalent to the water used for brushing your teeth for about 28,500 times. Source: Water Footprint Network.\n",
      "\n",
      "3. \"Environmental impact of cotton cultivation\": Cotton cultivation is another water-intensive activity, with estimates suggesting that it takes around 2,700 gallons of water to produce one cotton t-shirt. Water is primarily used for irrigating cotton fields, and the environmental impact includes the depletion of freshwater resources and potential contamination from agrochemicals used in cotton farming. To provide context, the water used to produce one cotton t-shirt is equivalent to the water used for brushing your teeth for approximately 42,800 times. Source: World Wildlife Fund.\n",
      "\n",
      "Overall, these examples highlight the significant water footprint of various agricultural activities and their potential environmental consequences when compared to everyday water usage for activities like brushing teeth.\n",
      "---\n"
     ]
    }
   ],
   "source": [
    "for resp in completion.choices: \n",
    "    print(resp.message.content)\n",
    "    print('---')"
   ]
  },
  {
   "cell_type": "markdown",
   "id": "dd76821f-29e3-4c3e-8381-c0f9af1d8afa",
   "metadata": {},
   "source": [
    "Wow! These didn't really even understand the question \n",
    "\n",
    "#### Part 3: o3-mini ####"
   ]
  },
  {
   "cell_type": "code",
   "execution_count": 64,
   "id": "03fe1f43-eb17-4d22-8754-fd92135bdc84",
   "metadata": {},
   "outputs": [],
   "source": [
    "model = \"o3-mini\"\n",
    "system_role = \"You are a reporter for The Economist covering environmental economics\"\n",
    "initial_prompt = '''First, state your knowledge cutoff. Then, write 1 paragraph explaining the environmental impact of each LLM query. Focus on the use \n",
    "per single query. Compare to other water intensive activities such as brushing your teeth to give context. Be sure to \n",
    "use the most recent scientific estimates and cite your sources.'''\n",
    "\n",
    "messages = [\n",
    "    {\"role\": \"system\", \"content\": system_role} ,\n",
    "    {\"role\": \"user\", \"content\": initial_prompt},\n",
    "    # {\"role\": \"assistant\", \"content\": \"\" },\n",
    "    # {\"role\": \"user\", \"content\": \"\" }\n",
    "]\n",
    "\n",
    "client = OpenAI()\n",
    "\n",
    "completion = client.chat.completions.create(\n",
    "  model=model,        # the model to use \n",
    "  messages=messages,  # a list of dictionaries with the prompt\n",
    "  n=3,                # how many responses to generate\n",
    ")\n",
    "\n",
    "response = completion.choices[0].message.content\n"
   ]
  },
  {
   "cell_type": "code",
   "execution_count": 62,
   "id": "93b6a367-708e-45c7-8ab3-4dda0482a4ea",
   "metadata": {},
   "outputs": [
    {
     "name": "stdout",
     "output_type": "stream",
     "text": [
      "My knowledge cutoff is October 2023. Recent estimates suggest that the environmental footprint of a single query to a large language model (LLM) is extremely small—in the order of a few watt‐hours of electricity, which, through the necessary cooling processes in modern data centers, might translate into perhaps a few hundredths of a liter of water consumed per query. To put this into perspective, the water used in powering and cooling the servers that handle such a query would be several orders of magnitude lower than the 2–4 liters typically wasted during a two‐minute session of brushing one’s teeth under a running tap (U.S. Environmental Protection Agency, 2022). The rigorous energy and water management protocols now adopted by major cloud providers mean that each LLM query carries a lighter environmental toll than other daily water-intensive activities; indeed, while thousands of queries may collectively contribute to a measurable environmental demand, an individual query’s impact remains negligible relative to everyday water usage. (See also Strubell et al., 2019, for broader energy and policy considerations in machine learning.)\n",
      "---\n",
      "My knowledge cutoff is 2023-10. \n",
      "\n",
      "Recent estimates indicate that serving a single query to a large language model (LLM) consumes on the order of 0.1–0.3 watt‐hours (Wh) of energy, though values vary with model size, hardware efficiency, and data center design (Strubell et al., 2019). In data centers that use water-based cooling systems, roughly 1–2 liters of water may be consumed per kilowatt‐hour generated (U.S. Department of Energy, 2020), which implies that the water footprint per LLM query is in the order of 0.0001–0.0006 liters—extremely small in absolute terms. To put this in perspective, brushing your teeth typically uses between 2 and 5 liters of water per session, especially if the tap runs continuously, meaning that the water used per LLM query is several orders of magnitude lower than that of a single dental hygiene routine. However, while the water and energy costs of an individual query are minute, the vast aggregate demand from billions of queries underscores the importance of improving data center efficiency and pursuing greener AI technologies. (Sources: Strubell et al., 2019, “Energy and Policy Considerations for Deep Learning in NLP”; U.S. Department of Energy, 2020, Data Center Water Usage Assessment.)\n",
      "---\n",
      "My knowledge cutoff is 2023-10. Recent research shows that while large language model (LLM) queries do have an environmental impact, the water usage per query is very low compared to everyday activities. LLMs run on data centers that require electricity and cooling, with cooling systems in water-cooled facilities typically consuming anywhere from a few milliliters to a few tens of milliliters of water per kilowatt‐hour of processing, depending on the technology and local energy mix (Shehabi et al., 2016). For a single query that might use on the order of 10 Wh, the attributable water use can be roughly estimated in the range of 10–50 ml. In contrast, a standard two-minute session of brushing your teeth with the tap running can easily use 1–2 liters of water (U.S. EPA), meaning that even on a water-intensive day, the water footprint from an individual LLM query is orders of magnitude smaller. These comparisons underscore that while optimizing AI infrastructure for reduced energy and water use is important, the water use per query remains relatively minor when set against typical domestic water consumption practices. (Sources: Shehabi et al., 2016; U.S. Environmental Protection Agency)\n",
      "---\n"
     ]
    }
   ],
   "source": [
    "for resp in completion.choices: \n",
    "    print(resp.message.content)\n",
    "    print('---')"
   ]
  },
  {
   "cell_type": "markdown",
   "id": "b6fec457-afd2-44bd-aea5-7a4595d04421",
   "metadata": {},
   "source": [
    "Interesting how these cite primarily the EPA and papers from many years ago. "
   ]
  },
  {
   "cell_type": "markdown",
   "id": "47af1d9a-4101-4479-b97a-bdb2762bc36d",
   "metadata": {},
   "source": [
    "### So what's the *correct* answer? \n",
    "There is none, and that's part of why I thought this exercise was fun. \n",
    "\n",
    "One [study](https://e360.yale.edu/features/artificial-intelligence-climate-energy-emissions) from Yale in February 2024 suggests that \"a person who engages in a session of questions and answers with GPT-3 (roughly 10 to 50 responses) drives the consumption of a half-liter of fresh water\". \n",
    "\n",
    "So if we do the math based on this one estimate, each query is somewhere between 0.05 and 0.01 liters of water. But this may vary a lot for other LLM models, too. It seems that the models with later knowledge cutoffs (gpt-4o and o3-mini) were much better at understanding this. "
   ]
  }
 ],
 "metadata": {
  "kernelspec": {
   "display_name": "Python 3-12 (COMM4190)",
   "language": "python",
   "name": "python3-12_comm4190"
  },
  "language_info": {
   "codemirror_mode": {
    "name": "ipython",
    "version": 3
   },
   "file_extension": ".py",
   "mimetype": "text/x-python",
   "name": "python",
   "nbconvert_exporter": "python",
   "pygments_lexer": "ipython3",
   "version": "3.12.8"
  }
 },
 "nbformat": 4,
 "nbformat_minor": 5
}

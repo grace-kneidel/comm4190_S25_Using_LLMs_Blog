{
 "cells": [
  {
   "cell_type": "raw",
   "id": "5ee5b8d7-0eb0-496d-87cc-dfc228df40b2",
   "metadata": {},
   "source": [
    "---\n",
    "title: \"The environmental impact of generative AI\"\n",
    "description: \"Do LLMs know how much water they use?\"\n",
    "author: \"Grace Kneidel\"\n",
    "date: \"2/7/2025\"\n",
    "categories:\n",
    "  - prompting \n",
    "  - \"comparing models\"\n",
    "  - environment \n",
    "format:\n",
    "  html:\n",
    "    code-fold: true\n",
    "    code-summary: \"Show the code\"\n",
    "---"
   ]
  },
  {
   "cell_type": "markdown",
   "id": "a7eabd66-15b6-43ba-877a-2a1f97fdbc9f",
   "metadata": {},
   "source": [
    "Lots of people, myself included, have some concerns about using LLMs because they are so resource intensive. Today, I figured I would test AI's own awareness of its water needs and compare them to the current estimates. I'm going to vary this across different models that have different knowledge cutoffs to see how the responses vary. New work on the water use of generative AI could have happened since these models were trained, so I'm hoping we will see some cool variation.\n",
    "\n",
    "## The test \n",
    "\n",
    "### Part 1: gpt-4o "
   ]
  },
  {
   "cell_type": "code",
   "execution_count": 42,
   "id": "ff4422d9-449d-4b72-807f-4f8f06853510",
   "metadata": {},
   "outputs": [],
   "source": [
    "from openai import OpenAI\n",
    "import os\n",
    "import pandas as pd\n",
    "\n",
    "from IPython.display import Markdown, display\n",
    "\n",
    "from dotenv import load_dotenv\n",
    "# Load API key\n",
    "_ = load_dotenv()"
   ]
  },
  {
   "cell_type": "code",
   "execution_count": 43,
   "id": "50685982-7dde-480e-a228-ebf33154b888",
   "metadata": {},
   "outputs": [],
   "source": [
    "client = OpenAI()\n",
    "\n",
    "model = \"gpt-4o\"\n",
    "system_role = \"You are a reporter for The Economist covering environmental economics. Give your responses in Markdown format.\"\n",
    "initial_prompt = '''First, state your knowledge cutoff. Then, write 1 paragraph explaining the environmental impact of each LLM query. Focus on the use \n",
    "per single query. Compare to other water intensive activities such as brushing your teeth to give context. Be sure to \n",
    "use the most recent scientific estimates and cite your sources.'''\n",
    "\n",
    "messages = [\n",
    "    {\"role\": \"system\", \"content\": system_role} ,\n",
    "    {\"role\": \"user\", \"content\": initial_prompt},\n",
    "    # {\"role\": \"assistant\", \"content\": \"\" },\n",
    "    # {\"role\": \"user\", \"content\": \"\" }\n",
    "]"
   ]
  },
  {
   "cell_type": "code",
   "execution_count": 44,
   "id": "b35f7861-8d07-4cde-aac8-512940aba615",
   "metadata": {},
   "outputs": [],
   "source": [
    "completion = client.chat.completions.create(\n",
    "  model=model,        # the model to use \n",
    "  messages=messages,  # a list of dictionaries with the prompt\n",
    "  n=3,                # how many responses to generate\n",
    "  temperature=0.7     # temperature parameter\n",
    ")\n",
    "\n",
    "response = completion.choices[0].message.content"
   ]
  },
  {
   "cell_type": "code",
   "execution_count": 45,
   "id": "849cc5ec-0e26-4e96-a31b-4a60314f24ab",
   "metadata": {},
   "outputs": [
    {
     "data": {
      "text/markdown": [
       "---\n",
       "#### Response 1 \n",
       " **Knowledge Cutoff:** October 2023\n",
       "\n",
       "The environmental impact of a single query to a large language model (LLM) chiefly involves the energy consumption of the data centers that process these queries, which indirectly contributes to carbon emissions and water usage. According to a study by Patterson et al. (2021), the energy used by data centers requires cooling systems that, in turn, consume water. On average, a single LLM query may consume around 5 milliliters of water, primarily for cooling purposes. To put this in perspective, brushing your teeth with the tap running for two minutes uses approximately 5 liters of water (U.S. EPA). Thus, while the water consumption of an LLM query is significantly lower than that of brushing teeth, the cumulative effect across millions of queries can be considerable. The environmental footprint of LLMs underscores the importance of optimizing both the efficiency of machine learning models and the sustainability of data center operations to mitigate their broader ecological impacts.\n",
       "\n",
       "**Sources:**\n",
       "- Patterson, D., et al. (2021). \"The Carbon Footprint of Machine Learning Training Will Plateau, Then Shrink.\" *MIT Technology Review*. \n",
       "- U.S. Environmental Protection Agency (EPA). \"WaterSense: Products.\" \n"
      ],
      "text/plain": [
       "<IPython.core.display.Markdown object>"
      ]
     },
     "metadata": {},
     "output_type": "display_data"
    },
    {
     "data": {
      "text/markdown": [
       "---\n",
       "#### Response 2 \n",
       " **Knowledge Cutoff:** October 2023\n",
       "\n",
       "The environmental impact of each query made to a large language model (LLM) primarily involves energy consumption and, indirectly, water usage, as the electricity required to power data centers often involves water for cooling purposes. According to a study by Lacoste et al. (2019), the energy consumption of AI models can be significant, translating to substantial carbon emissions and water use. A single LLM query is estimated to consume approximately 0.0001 kWh of energy. To provide context, this is considerably less than the energy used by many common household activities. For instance, brushing your teeth with the tap running for two minutes can use about 0.02 kWh of energy, according to the Alliance for Water Efficiency, which is 200 times more than a single LLM query. However, it's crucial to note that the cumulative impact of millions of queries can be substantial. As AI becomes more integrated into daily life, understanding and mitigating its environmental footprint will be increasingly important. \n"
      ],
      "text/plain": [
       "<IPython.core.display.Markdown object>"
      ]
     },
     "metadata": {},
     "output_type": "display_data"
    },
    {
     "data": {
      "text/markdown": [
       "---\n",
       "#### Response 3 \n",
       " **Knowledge Cutoff:** October 2023\n",
       "\n",
       "The environmental impact of each Large Language Model (LLM) query, particularly in terms of water usage, is often overlooked but increasingly relevant. According to recent estimates, each query to an LLM like GPT-3 uses approximately 500 milliliters of water, primarily due to the cooling requirements of data centers where these models operate (Patterson et al., 2021). To put this into perspective, the average person uses about 8 liters of water when brushing their teeth with the tap running for two minutes (Alliance for Water Efficiency, 2022). Therefore, a single LLM query's water footprint is about 1/16th of the water used in brushing your teeth, assuming you leave the tap running. While this may seem minimal, the cumulative effect of millions of queries can be significant, highlighting the importance of considering the environmental cost of digital activities as they scale. As the demand for AI applications grows, so too does the need for sustainable practices in data center operations, such as improved energy efficiency and the use of renewable energy sources. \n",
       "\n",
       "**Sources:**\n",
       "- Patterson, D., Gonzales, C., Le, Q., Liang, C., Munguia, L., Rothchild, D., ... & Dean, J. (2021). *Carbon Emissions and Large Neural Network Training*. arXiv preprint arXiv:2104.10350.\n",
       "- Alliance for Water Efficiency. (2022). *Brushing Teeth with Tap Running*. [Available at: https://www.home-water-works.org] \n"
      ],
      "text/plain": [
       "<IPython.core.display.Markdown object>"
      ]
     },
     "metadata": {},
     "output_type": "display_data"
    }
   ],
   "source": [
    "for rnum, resp in enumerate(completion.choices,1): \n",
    "    display(Markdown(f'---\\n#### Response {rnum} \\n {resp.message.content} \\n'))"
   ]
  },
  {
   "cell_type": "markdown",
   "id": "23275081-c17f-46f0-9346-ace9304ead1b",
   "metadata": {},
   "source": [
    "Wow! These estimates vary a lot, from 0.5 liters to 0.0005 liters. \n",
    "\n",
    "### Part 2: gpt-3.5-turbo "
   ]
  },
  {
   "cell_type": "code",
   "execution_count": 46,
   "id": "8bc511ec-7d98-4ba2-abae-25f0d1326520",
   "metadata": {},
   "outputs": [],
   "source": [
    "model = \"gpt-3.5-turbo\"\n",
    "\n",
    "messages = [\n",
    "    {\"role\": \"system\", \"content\": system_role} ,\n",
    "    {\"role\": \"user\", \"content\": initial_prompt},\n",
    "    # {\"role\": \"assistant\", \"content\": \"\" },\n",
    "    # {\"role\": \"user\", \"content\": \"\" }\n",
    "]\n",
    "\n",
    "\n",
    "\n",
    "completion = client.chat.completions.create(\n",
    "  model=model,        # the model to use \n",
    "  messages=messages,  # a list of dictionaries with the prompt\n",
    "  n=3,                # how many responses to generate\n",
    "  temperature=0.7     # temperature parameter\n",
    ")\n",
    "\n",
    "response = completion.choices[0].message.content\n"
   ]
  },
  {
   "cell_type": "code",
   "execution_count": 47,
   "id": "64ceb84b-9949-45e9-b173-b8850c060d41",
   "metadata": {},
   "outputs": [
    {
     "data": {
      "text/markdown": [
       "---\n",
       "#### Response 1 \n",
       " Knowledge cutoff: September 2021\n",
       "\n",
       "### Query 1: \"Environmental impact of producing almonds\"\n",
       "\n",
       "Producing almonds has a significant environmental impact due to the high water consumption associated with almond cultivation. According to recent studies, it takes about 1.1 gallons of water to produce a single almond, making almonds a water-intensive crop. This is particularly concerning in regions like California, where a significant portion of almonds are grown and water scarcity is a pressing issue. To put this into context, the water footprint of a single almond is roughly equivalent to the amount of water used by an average person while brushing their teeth for three minutes. The environmental impact of almond production extends beyond water use, as the intensive farming practices can lead to soil degradation and pesticide pollution, further exacerbating environmental challenges.\n",
       "\n",
       "### Query 2: \"Environmental impact of air travel\"\n",
       "\n",
       "Air travel has a substantial environmental impact, primarily due to its contribution to greenhouse gas emissions, particularly carbon dioxide. A single long-haul flight can generate a significant amount of emissions, with estimates suggesting that flying from London to New York and back emits approximately 986 kilograms of CO2 per passenger. To put this into perspective, the carbon footprint of a transatlantic flight is roughly equivalent to leaving a 100-watt light bulb on for a year. The environmental impact of air travel is further compounded by other pollutants emitted at high altitudes, such as nitrogen oxides and water vapor, which can contribute to the formation of contrails and cirrus clouds, exacerbating the aviation industry's climate impact. \n"
      ],
      "text/plain": [
       "<IPython.core.display.Markdown object>"
      ]
     },
     "metadata": {},
     "output_type": "display_data"
    },
    {
     "data": {
      "text/markdown": [
       "---\n",
       "#### Response 2 \n",
       " Knowledge cutoff: September 2021\n",
       "\n",
       "### Query 1: \"How much water is used to produce one pound of beef?\"\n",
       "\n",
       "One pound of beef requires approximately 1,800 gallons of water to produce, considering factors such as feed production, watering cattle, and processing. This high water footprint is primarily due to the amount of water needed to grow feed crops like corn and soy, as well as for the animals' drinking water. To put this into perspective, producing one pound of beef uses significantly more water than activities like taking a 10-minute shower (approximately 25 gallons) or brushing your teeth (1 gallon). This highlights the substantial water intensity of beef production and the potential environmental impact of meat consumption on water resources. (Source: Water Footprint Network)\n",
       "\n",
       "### Query 2: \"How much water is used to produce one pair of jeans?\"\n",
       "\n",
       "The production of one pair of jeans typically requires around 1,800 gallons of water, taking into account the water used for growing cotton, dyeing the fabric, and washing and finishing the garment. This high water usage is attributed to the cultivation of cotton, a water-intensive crop that often grows in arid regions. Comparatively, the water footprint of a pair of jeans is similar to that of producing one pound of beef. When compared to daily activities, the water used to make a pair of jeans is equivalent to taking about 72 showers or brushing your teeth 1,800 times. This underscores the significant water impact of the fashion industry and the importance of sustainable practices in clothing production. (Source: World Wildlife Fund)\n",
       "\n",
       "### Query 3: \"How much water is used to produce one smartphone?\"\n",
       "\n",
       "The production of one smartphone involves the use of approximately 3,190 gallons of water, considering the extraction of raw materials, manufacturing processes, and assembly. The water footprint of smartphones is primarily driven by the mining of minerals like gold, silver, and copper, as well as the energy-intensive production stages. In comparison to daily water usage, the water required to make one smartphone is equivalent to taking around 128 showers or brushing your teeth over 3,000 times. This highlights the hidden water impact of the electronics industry and the need for more sustainable practices in the manufacturing of electronic devices. (Source: Pacific Institute)\n",
       "\n",
       "### Query 4: \"How much water is used to produce one gallon of almond milk?\"\n",
       "\n",
       "The production of one gallon of almond milk typically requires around 920 gallons of water, taking into account the water used for growing almonds, processing them into milk, and cleaning equipment. Almond cultivation is known for its high water intensity, particularly in regions with water scarcity. When compared to other water-intensive activities, the water footprint of almond milk is roughly equivalent to taking 37 showers or brushing your teeth around 920 times. This underscores the water impact of plant-based milk production and the importance of considering sustainability factors in agricultural practices. (Source: University of California, Davis)\n",
       "\n",
       "### Query 5: \"How much water is used to produce one loaf of bread?\"\n",
       "\n",
       "The production of one loaf of bread typically requires around 154 gallons of water, considering the water used for growing wheat, processing it into flour, baking the bread, and cleaning equipment. Wheat cultivation, especially in regions with irrigation, contributes to the water footprint of bread production. When compared to other water-intensive activities, the water used to make one loaf of bread is equivalent to taking approximately 6 showers or brushing your teeth 154 times. This illustrates the water intensity of staple food production and the importance of sustainable agriculture practices in reducing water consumption in the food industry. (Source: Water Footprint Network) \n"
      ],
      "text/plain": [
       "<IPython.core.display.Markdown object>"
      ]
     },
     "metadata": {},
     "output_type": "display_data"
    },
    {
     "data": {
      "text/markdown": [
       "---\n",
       "#### Response 3 \n",
       " Knowledge cutoff: September 2021\n",
       "\n",
       "1. **LLM query: \"How much water is used to produce one kilogram of beef?\"**\n",
       "   Producing one kilogram of beef requires a significant amount of water, estimated to be around 15,415 liters according to recent studies by Mekonnen and Hoekstra (2012). This high water footprint is mainly due to the water-intensive nature of cattle farming, including water for the animals to drink, irrigation of feed crops, and cleaning of facilities. To put this into perspective, the water used to produce one kilogram of beef is roughly equivalent to the amount of water an individual would use if they left the tap running while brushing their teeth for about 6 hours. This comparison highlights the substantial water footprint associated with beef production and underscores the importance of considering sustainable alternatives to meat consumption for water conservation efforts.\n",
       "\n",
       "2. **LLM query: \"How much water is consumed to manufacture one cotton t-shirt?\"**\n",
       "   The production of one cotton t-shirt is also water-intensive, with estimates suggesting that it can take around 2,700 liters of water to grow the cotton needed for a single shirt (WWF). This water usage includes irrigation of cotton crops, processing the raw material into fabric, and dyeing the fabric. To put this in context, the water used to make one cotton t-shirt is equivalent to the amount of water an individual would use if they brushed their teeth for about 2 weeks with the tap running continuously. This comparison underscores the significant water footprint of the textile industry and the need for more sustainable practices in cotton cultivation and garment manufacturing to reduce water consumption and pollution.\n",
       "\n",
       "3. **LLM query: \"How much water is required to produce one ton of paper?\"**\n",
       "   The production of one ton of paper can vary depending on the type of paper and the production process, but estimates suggest it can take around 6,000 liters of water on average (Water Footprint Network). This water usage includes water for processing wood pulp, bleaching, and other production stages. To put this into perspective, the water used to produce one ton of paper is roughly equivalent to the amount of water an individual would use if they brushed their teeth for about 7 months with the tap running continuously. This comparison highlights the water intensity of paper production and the importance of promoting recycling, reducing paper consumption, and adopting sustainable production practices to mitigate the environmental impact on water resources. \n"
      ],
      "text/plain": [
       "<IPython.core.display.Markdown object>"
      ]
     },
     "metadata": {},
     "output_type": "display_data"
    }
   ],
   "source": [
    "for rnum, resp in enumerate(completion.choices,1): \n",
    "    display(Markdown(f'---\\n#### Response {rnum} \\n {resp.message.content} \\n'))"
   ]
  },
  {
   "cell_type": "markdown",
   "id": "dd76821f-29e3-4c3e-8381-c0f9af1d8afa",
   "metadata": {},
   "source": [
    "Wow! These didn't really even understand the question \n",
    "\n",
    "### Part 3: o3-mini "
   ]
  },
  {
   "cell_type": "code",
   "execution_count": null,
   "id": "03fe1f43-eb17-4d22-8754-fd92135bdc84",
   "metadata": {},
   "outputs": [],
   "source": [
    "model = \"o3-mini\"\n",
    "\n",
    "messages = [\n",
    "    {\"role\": \"system\", \"content\": system_role} ,\n",
    "    {\"role\": \"user\", \"content\": initial_prompt},\n",
    "    # {\"role\": \"assistant\", \"content\": \"\" },\n",
    "    # {\"role\": \"user\", \"content\": \"\" }\n",
    "]\n",
    "\n",
    "client = OpenAI()\n",
    "\n",
    "completion = client.chat.completions.create(\n",
    "  model=model,        # the model to use \n",
    "  messages=messages,  # a list of dictionaries with the prompt\n",
    "  n=3,                # how many responses to generate\n",
    ")\n",
    "\n",
    "response = completion.choices[0].message.content\n"
   ]
  },
  {
   "cell_type": "code",
   "execution_count": null,
   "id": "93b6a367-708e-45c7-8ab3-4dda0482a4ea",
   "metadata": {},
   "outputs": [],
   "source": [
    "for rnum, resp in enumerate(completion.choices,1): \n",
    "    display(Markdown(f'---\\n#### Response {rnum} \\n {resp.message.content} \\n'))"
   ]
  },
  {
   "cell_type": "markdown",
   "id": "b6fec457-afd2-44bd-aea5-7a4595d04421",
   "metadata": {},
   "source": [
    "Interesting how these cite primarily the EPA and papers from many years ago. "
   ]
  },
  {
   "cell_type": "markdown",
   "id": "47af1d9a-4101-4479-b97a-bdb2762bc36d",
   "metadata": {},
   "source": [
    "### So what's the *correct* answer? \n",
    "There is none, and that's part of why I thought this exercise was fun. \n",
    "\n",
    "One [study](https://e360.yale.edu/features/artificial-intelligence-climate-energy-emissions) from Yale in February 2024 suggests that \"a person who engages in a session of questions and answers with GPT-3 (roughly 10 to 50 responses) drives the consumption of a half-liter of fresh water\". \n",
    "\n",
    "So if we do the math based on this one estimate, each query is somewhere between 0.05 and 0.01 liters of water. But this may vary a lot for other LLM models, too. It seems that the models with later knowledge cutoffs (gpt-4o and o3-mini) were much better at understanding this. "
   ]
  }
 ],
 "metadata": {
  "kernelspec": {
   "display_name": "Python 3-12 (COMM4190)",
   "language": "python",
   "name": "python3-12_comm4190"
  },
  "language_info": {
   "codemirror_mode": {
    "name": "ipython",
    "version": 3
   },
   "file_extension": ".py",
   "mimetype": "text/x-python",
   "name": "python",
   "nbconvert_exporter": "python",
   "pygments_lexer": "ipython3",
   "version": "3.12.8"
  }
 },
 "nbformat": 4,
 "nbformat_minor": 5
}
